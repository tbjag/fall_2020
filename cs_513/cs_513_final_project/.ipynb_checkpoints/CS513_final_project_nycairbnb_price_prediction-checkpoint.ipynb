{
 "cells": [
  {
   "cell_type": "markdown",
   "metadata": {
    "id": "PzyQoGKY6pe2"
   },
   "source": [
    "# **CS 513 Final Project**\n",
    "# AirBnB Analysis<br>\n",
    "Sushrut M.<br>\n",
    "Theodore J.<br>\n",
    "Kurt Von A.<br>\n",
    "Mijeong B."
   ]
  },
  {
   "cell_type": "code",
   "execution_count": 1,
   "metadata": {
    "colab": {
     "base_uri": "https://localhost:8080/"
    },
    "id": "hcGPJcDR2sIi",
    "outputId": "5a682a9b-f919-454b-fa42-e765be1d87d9"
   },
   "outputs": [],
   "source": [
    "\n",
    "!pip install -q git+https://github.com/tensorflow/docs "
   ]
  },
  {
   "cell_type": "markdown",
   "metadata": {
    "id": "Lv4oBnronRn1"
   },
   "source": [
    "# Intro\n",
    "Our goal: Price prediction using various regression model\n",
    "- Linear regression\n",
    "- KNN \n",
    "- Support Vector Machine \n",
    "- Neural Network\n",
    "- Decision Tree\n",
    "- Random Forest\n",
    "\n",
    "Since price is a continuous variable we need to do a regression task by using regression models of the traditional models such as KNN, SVM.  \n",
    "We are not aiming for high accuracy, since it's a regression task, not a classification task. We will focus on mean squared error and try to minimize it by tuning hyperparameters\n",
    "\n",
    "# 1. Preparation & Graphs\n",
    "## 1.1 Used libraries\n"
   ]
  },
  {
   "cell_type": "code",
   "execution_count": 2,
   "metadata": {
    "colab": {
     "base_uri": "https://localhost:8080/"
    },
    "id": "gOwtK29wnLlT",
    "outputId": "af9c467b-ed21-425c-b938-e0330e5c4a42"
   },
   "outputs": [
    {
     "ename": "ModuleNotFoundError",
     "evalue": "No module named 'tensorflow'",
     "output_type": "error",
     "traceback": [
      "\u001b[1;31m---------------------------------------------------------------------------\u001b[0m",
      "\u001b[1;31mModuleNotFoundError\u001b[0m                       Traceback (most recent call last)",
      "\u001b[1;32m<ipython-input-2-0f9a636ea854>\u001b[0m in \u001b[0;36m<module>\u001b[1;34m\u001b[0m\n\u001b[0;32m     12\u001b[0m \u001b[1;32mfrom\u001b[0m \u001b[0msklearn\u001b[0m\u001b[1;33m.\u001b[0m\u001b[0mneighbors\u001b[0m \u001b[1;32mimport\u001b[0m \u001b[0mKNeighborsRegressor\u001b[0m\u001b[1;33m\u001b[0m\u001b[1;33m\u001b[0m\u001b[0m\n\u001b[0;32m     13\u001b[0m \u001b[1;32mfrom\u001b[0m \u001b[0msklearn\u001b[0m\u001b[1;33m.\u001b[0m\u001b[0msvm\u001b[0m \u001b[1;32mimport\u001b[0m \u001b[0mLinearSVR\u001b[0m\u001b[1;33m,\u001b[0m \u001b[0mSVR\u001b[0m\u001b[1;33m\u001b[0m\u001b[1;33m\u001b[0m\u001b[0m\n\u001b[1;32m---> 14\u001b[1;33m \u001b[1;32mimport\u001b[0m \u001b[0mtensorflow\u001b[0m \u001b[1;32mas\u001b[0m \u001b[0mtf\u001b[0m\u001b[1;33m\u001b[0m\u001b[1;33m\u001b[0m\u001b[0m\n\u001b[0m\u001b[0;32m     15\u001b[0m \u001b[1;32mfrom\u001b[0m \u001b[0mtensorflow\u001b[0m \u001b[1;32mimport\u001b[0m \u001b[0mkeras\u001b[0m\u001b[1;33m\u001b[0m\u001b[1;33m\u001b[0m\u001b[0m\n\u001b[0;32m     16\u001b[0m \u001b[1;32mfrom\u001b[0m \u001b[0mtensorflow\u001b[0m\u001b[1;33m.\u001b[0m\u001b[0mkeras\u001b[0m \u001b[1;32mimport\u001b[0m \u001b[0mlayers\u001b[0m\u001b[1;33m\u001b[0m\u001b[1;33m\u001b[0m\u001b[0m\n",
      "\u001b[1;31mModuleNotFoundError\u001b[0m: No module named 'tensorflow'"
     ]
    }
   ],
   "source": [
    "# import libraries here \n",
    "import numpy as np\n",
    "import pandas as pd \n",
    "import matplotlib.pyplot as plt\n",
    "%matplotlib inline\n",
    "import seaborn as sns\n",
    "from sklearn.preprocessing import LabelEncoder\n",
    "from sklearn.preprocessing import StandardScaler\n",
    "from sklearn.model_selection import train_test_split\n",
    "from sklearn.metrics import mean_squared_error, mean_absolute_error, r2_score\n",
    "from sklearn.linear_model import LinearRegression\n",
    "from sklearn.neighbors import KNeighborsRegressor\n",
    "from sklearn.svm import LinearSVR, SVR\n",
    "import tensorflow as tf\n",
    "from tensorflow import keras \n",
    "from tensorflow.keras import layers\n",
    "import tensorflow_docs as tfdocs\n",
    "import tensorflow_docs.plots\n",
    "import tensorflow_docs.modeling\n",
    "from sklearn import tree\n",
    "from sklearn.ensemble import RandomForestRegressor, GradientBoostingRegressor\n",
    "from sklearn.svm import SVR\n",
    "from sklearn.inspection import permutation_importance\n",
    "\n",
    "# Set global Seaborn params\n",
    "sns.set_style(\"whitegrid\")\n",
    "sns.set(font_scale=1.2)\n",
    "\n",
    "#confirm downloads\n",
    "print(\"imported libraries and done with setup...\")"
   ]
  },
  {
   "cell_type": "markdown",
   "metadata": {
    "id": "IjVSw-0B9vb7"
   },
   "source": [
    "# **Intro/Problem Statement:**\n",
    "#### For our project, we would like to predict the price of an airBnB hosting, given the parameters in our dataset. This is for a host looking to put their listing on the market and would like a reference point to base the price of their listing. Also this can be used by customers to determine if a listing over or undervalued and whether it is a good deal. In addition, we will find what factors are the most important in driving the model. This will help in giving more value to hosts to determine what makes their listing so valuable. "
   ]
  },
  {
   "cell_type": "markdown",
   "metadata": {
    "id": "f89vG8VknyNA"
   },
   "source": [
    "## 1.2 Loading dataset\n",
    "Resource: [New York City Airbnb Open Data](https://www.kaggle.com/dgomonov/new-york-city-airbnb-open-data)\n"
   ]
  },
  {
   "cell_type": "code",
   "execution_count": null,
   "metadata": {
    "colab": {
     "base_uri": "https://localhost:8080/",
     "height": 442
    },
    "id": "zVy_Riu8noZU",
    "outputId": "7d717c23-554e-4740-b6d5-17505e7a15e5"
   },
   "outputs": [
    {
     "data": {
      "text/html": [
       "<div>\n",
       "<style scoped>\n",
       "    .dataframe tbody tr th:only-of-type {\n",
       "        vertical-align: middle;\n",
       "    }\n",
       "\n",
       "    .dataframe tbody tr th {\n",
       "        vertical-align: top;\n",
       "    }\n",
       "\n",
       "    .dataframe thead th {\n",
       "        text-align: right;\n",
       "    }\n",
       "</style>\n",
       "<table border=\"1\" class=\"dataframe\">\n",
       "  <thead>\n",
       "    <tr style=\"text-align: right;\">\n",
       "      <th></th>\n",
       "      <th>name</th>\n",
       "      <th>host_id</th>\n",
       "      <th>host_name</th>\n",
       "      <th>neighbourhood_group</th>\n",
       "      <th>neighbourhood</th>\n",
       "      <th>latitude</th>\n",
       "      <th>longitude</th>\n",
       "      <th>room_type</th>\n",
       "      <th>price</th>\n",
       "      <th>minimum_nights</th>\n",
       "      <th>number_of_reviews</th>\n",
       "      <th>last_review</th>\n",
       "      <th>reviews_per_month</th>\n",
       "      <th>calculated_host_listings_count</th>\n",
       "      <th>availability_365</th>\n",
       "    </tr>\n",
       "    <tr>\n",
       "      <th>id</th>\n",
       "      <th></th>\n",
       "      <th></th>\n",
       "      <th></th>\n",
       "      <th></th>\n",
       "      <th></th>\n",
       "      <th></th>\n",
       "      <th></th>\n",
       "      <th></th>\n",
       "      <th></th>\n",
       "      <th></th>\n",
       "      <th></th>\n",
       "      <th></th>\n",
       "      <th></th>\n",
       "      <th></th>\n",
       "      <th></th>\n",
       "    </tr>\n",
       "  </thead>\n",
       "  <tbody>\n",
       "    <tr>\n",
       "      <th>2539</th>\n",
       "      <td>Clean &amp; quiet apt home by the park</td>\n",
       "      <td>2787</td>\n",
       "      <td>John</td>\n",
       "      <td>Brooklyn</td>\n",
       "      <td>Kensington</td>\n",
       "      <td>40.64749</td>\n",
       "      <td>-73.97237</td>\n",
       "      <td>Private room</td>\n",
       "      <td>149</td>\n",
       "      <td>1</td>\n",
       "      <td>9</td>\n",
       "      <td>2018-10-19</td>\n",
       "      <td>0.21</td>\n",
       "      <td>6</td>\n",
       "      <td>365</td>\n",
       "    </tr>\n",
       "    <tr>\n",
       "      <th>2595</th>\n",
       "      <td>Skylit Midtown Castle</td>\n",
       "      <td>2845</td>\n",
       "      <td>Jennifer</td>\n",
       "      <td>Manhattan</td>\n",
       "      <td>Midtown</td>\n",
       "      <td>40.75362</td>\n",
       "      <td>-73.98377</td>\n",
       "      <td>Entire home/apt</td>\n",
       "      <td>225</td>\n",
       "      <td>1</td>\n",
       "      <td>45</td>\n",
       "      <td>2019-05-21</td>\n",
       "      <td>0.38</td>\n",
       "      <td>2</td>\n",
       "      <td>355</td>\n",
       "    </tr>\n",
       "    <tr>\n",
       "      <th>3647</th>\n",
       "      <td>THE VILLAGE OF HARLEM....NEW YORK !</td>\n",
       "      <td>4632</td>\n",
       "      <td>Elisabeth</td>\n",
       "      <td>Manhattan</td>\n",
       "      <td>Harlem</td>\n",
       "      <td>40.80902</td>\n",
       "      <td>-73.94190</td>\n",
       "      <td>Private room</td>\n",
       "      <td>150</td>\n",
       "      <td>3</td>\n",
       "      <td>0</td>\n",
       "      <td>NaN</td>\n",
       "      <td>NaN</td>\n",
       "      <td>1</td>\n",
       "      <td>365</td>\n",
       "    </tr>\n",
       "    <tr>\n",
       "      <th>3831</th>\n",
       "      <td>Cozy Entire Floor of Brownstone</td>\n",
       "      <td>4869</td>\n",
       "      <td>LisaRoxanne</td>\n",
       "      <td>Brooklyn</td>\n",
       "      <td>Clinton Hill</td>\n",
       "      <td>40.68514</td>\n",
       "      <td>-73.95976</td>\n",
       "      <td>Entire home/apt</td>\n",
       "      <td>89</td>\n",
       "      <td>1</td>\n",
       "      <td>270</td>\n",
       "      <td>2019-07-05</td>\n",
       "      <td>4.64</td>\n",
       "      <td>1</td>\n",
       "      <td>194</td>\n",
       "    </tr>\n",
       "    <tr>\n",
       "      <th>5022</th>\n",
       "      <td>Entire Apt: Spacious Studio/Loft by central park</td>\n",
       "      <td>7192</td>\n",
       "      <td>Laura</td>\n",
       "      <td>Manhattan</td>\n",
       "      <td>East Harlem</td>\n",
       "      <td>40.79851</td>\n",
       "      <td>-73.94399</td>\n",
       "      <td>Entire home/apt</td>\n",
       "      <td>80</td>\n",
       "      <td>10</td>\n",
       "      <td>9</td>\n",
       "      <td>2018-11-19</td>\n",
       "      <td>0.10</td>\n",
       "      <td>1</td>\n",
       "      <td>0</td>\n",
       "    </tr>\n",
       "  </tbody>\n",
       "</table>\n",
       "</div>"
      ],
      "text/plain": [
       "                                                  name  ...  availability_365\n",
       "id                                                      ...                  \n",
       "2539                Clean & quiet apt home by the park  ...               365\n",
       "2595                             Skylit Midtown Castle  ...               355\n",
       "3647               THE VILLAGE OF HARLEM....NEW YORK !  ...               365\n",
       "3831                   Cozy Entire Floor of Brownstone  ...               194\n",
       "5022  Entire Apt: Spacious Studio/Loft by central park  ...                 0\n",
       "\n",
       "[5 rows x 15 columns]"
      ]
     },
     "execution_count": 5,
     "metadata": {
      "tags": []
     },
     "output_type": "execute_result"
    }
   ],
   "source": [
    "#read in dataset\n",
    "data_main = pd.read_csv('data/AB_NYC_2019.csv', index_col='id')#set idx since one already exists\n",
    "data_main.head()"
   ]
  },
  {
   "cell_type": "markdown",
   "metadata": {
    "id": "NS8ZA_VE_3bQ"
   },
   "source": [
    "### Column/Attribute Descriptions: (Most of these are self explanatory)\n",
    "\n",
    "---\n",
    "<pre>\n",
    "id                     unique ID number for each host\n",
    "host_name              name of host\n",
    "neighbourhood_group    which burrough the listing is in \n",
    "neighbourhood          which neighbourhood\n",
    "latitude               a float \n",
    "longitude              a float \n",
    "room_type              categorical\n",
    "price                  price\n",
    "minimum_nights         minimum amount of nights needed to book\n",
    "number_of_reviews      integer\n",
    "last_review            a date\n",
    "reviews_per_month      a rate - float\n",
    "calculated_host_listings_count other listings that the host has\n",
    "availability_365       how many days in the year it is available\n",
    "</pre>\n",
    "We found a data set that supports the original one. I will not be listing the explanations since there are over 100+."
   ]
  },
  {
   "cell_type": "code",
   "execution_count": null,
   "metadata": {
    "colab": {
     "base_uri": "https://localhost:8080/",
     "height": 726
    },
    "id": "24Wl5He9mDZa",
    "outputId": "602b3573-7341-46d3-c651-1b84b8afb2de"
   },
   "outputs": [
    {
     "name": "stderr",
     "output_type": "stream",
     "text": [
      "/usr/local/lib/python3.6/dist-packages/IPython/core/interactiveshell.py:2718: DtypeWarning: Columns (61,62,94,95) have mixed types.Specify dtype option on import or set low_memory=False.\n",
      "  interactivity=interactivity, compiler=compiler, result=result)\n"
     ]
    },
    {
     "data": {
      "text/html": [
       "<div>\n",
       "<style scoped>\n",
       "    .dataframe tbody tr th:only-of-type {\n",
       "        vertical-align: middle;\n",
       "    }\n",
       "\n",
       "    .dataframe tbody tr th {\n",
       "        vertical-align: top;\n",
       "    }\n",
       "\n",
       "    .dataframe thead th {\n",
       "        text-align: right;\n",
       "    }\n",
       "</style>\n",
       "<table border=\"1\" class=\"dataframe\">\n",
       "  <thead>\n",
       "    <tr style=\"text-align: right;\">\n",
       "      <th></th>\n",
       "      <th>listing_url</th>\n",
       "      <th>scrape_id</th>\n",
       "      <th>last_scraped</th>\n",
       "      <th>name</th>\n",
       "      <th>summary</th>\n",
       "      <th>space</th>\n",
       "      <th>description</th>\n",
       "      <th>experiences_offered</th>\n",
       "      <th>neighborhood_overview</th>\n",
       "      <th>notes</th>\n",
       "      <th>transit</th>\n",
       "      <th>access</th>\n",
       "      <th>interaction</th>\n",
       "      <th>house_rules</th>\n",
       "      <th>thumbnail_url</th>\n",
       "      <th>medium_url</th>\n",
       "      <th>picture_url</th>\n",
       "      <th>xl_picture_url</th>\n",
       "      <th>host_id</th>\n",
       "      <th>host_url</th>\n",
       "      <th>host_name</th>\n",
       "      <th>host_since</th>\n",
       "      <th>host_location</th>\n",
       "      <th>host_about</th>\n",
       "      <th>host_response_time</th>\n",
       "      <th>host_response_rate</th>\n",
       "      <th>host_acceptance_rate</th>\n",
       "      <th>host_is_superhost</th>\n",
       "      <th>host_thumbnail_url</th>\n",
       "      <th>host_picture_url</th>\n",
       "      <th>host_neighbourhood</th>\n",
       "      <th>host_listings_count</th>\n",
       "      <th>host_total_listings_count</th>\n",
       "      <th>host_verifications</th>\n",
       "      <th>host_has_profile_pic</th>\n",
       "      <th>host_identity_verified</th>\n",
       "      <th>street</th>\n",
       "      <th>neighbourhood</th>\n",
       "      <th>neighbourhood_cleansed</th>\n",
       "      <th>neighbourhood_group_cleansed</th>\n",
       "      <th>...</th>\n",
       "      <th>extra_people</th>\n",
       "      <th>minimum_nights</th>\n",
       "      <th>maximum_nights</th>\n",
       "      <th>minimum_minimum_nights</th>\n",
       "      <th>maximum_minimum_nights</th>\n",
       "      <th>minimum_maximum_nights</th>\n",
       "      <th>maximum_maximum_nights</th>\n",
       "      <th>minimum_nights_avg_ntm</th>\n",
       "      <th>maximum_nights_avg_ntm</th>\n",
       "      <th>calendar_updated</th>\n",
       "      <th>has_availability</th>\n",
       "      <th>availability_30</th>\n",
       "      <th>availability_60</th>\n",
       "      <th>availability_90</th>\n",
       "      <th>availability_365</th>\n",
       "      <th>calendar_last_scraped</th>\n",
       "      <th>number_of_reviews</th>\n",
       "      <th>number_of_reviews_ltm</th>\n",
       "      <th>first_review</th>\n",
       "      <th>last_review</th>\n",
       "      <th>review_scores_rating</th>\n",
       "      <th>review_scores_accuracy</th>\n",
       "      <th>review_scores_cleanliness</th>\n",
       "      <th>review_scores_checkin</th>\n",
       "      <th>review_scores_communication</th>\n",
       "      <th>review_scores_location</th>\n",
       "      <th>review_scores_value</th>\n",
       "      <th>requires_license</th>\n",
       "      <th>license</th>\n",
       "      <th>jurisdiction_names</th>\n",
       "      <th>instant_bookable</th>\n",
       "      <th>is_business_travel_ready</th>\n",
       "      <th>cancellation_policy</th>\n",
       "      <th>require_guest_profile_picture</th>\n",
       "      <th>require_guest_phone_verification</th>\n",
       "      <th>calculated_host_listings_count</th>\n",
       "      <th>calculated_host_listings_count_entire_homes</th>\n",
       "      <th>calculated_host_listings_count_private_rooms</th>\n",
       "      <th>calculated_host_listings_count_shared_rooms</th>\n",
       "      <th>reviews_per_month</th>\n",
       "    </tr>\n",
       "    <tr>\n",
       "      <th>id</th>\n",
       "      <th></th>\n",
       "      <th></th>\n",
       "      <th></th>\n",
       "      <th></th>\n",
       "      <th></th>\n",
       "      <th></th>\n",
       "      <th></th>\n",
       "      <th></th>\n",
       "      <th></th>\n",
       "      <th></th>\n",
       "      <th></th>\n",
       "      <th></th>\n",
       "      <th></th>\n",
       "      <th></th>\n",
       "      <th></th>\n",
       "      <th></th>\n",
       "      <th></th>\n",
       "      <th></th>\n",
       "      <th></th>\n",
       "      <th></th>\n",
       "      <th></th>\n",
       "      <th></th>\n",
       "      <th></th>\n",
       "      <th></th>\n",
       "      <th></th>\n",
       "      <th></th>\n",
       "      <th></th>\n",
       "      <th></th>\n",
       "      <th></th>\n",
       "      <th></th>\n",
       "      <th></th>\n",
       "      <th></th>\n",
       "      <th></th>\n",
       "      <th></th>\n",
       "      <th></th>\n",
       "      <th></th>\n",
       "      <th></th>\n",
       "      <th></th>\n",
       "      <th></th>\n",
       "      <th></th>\n",
       "      <th></th>\n",
       "      <th></th>\n",
       "      <th></th>\n",
       "      <th></th>\n",
       "      <th></th>\n",
       "      <th></th>\n",
       "      <th></th>\n",
       "      <th></th>\n",
       "      <th></th>\n",
       "      <th></th>\n",
       "      <th></th>\n",
       "      <th></th>\n",
       "      <th></th>\n",
       "      <th></th>\n",
       "      <th></th>\n",
       "      <th></th>\n",
       "      <th></th>\n",
       "      <th></th>\n",
       "      <th></th>\n",
       "      <th></th>\n",
       "      <th></th>\n",
       "      <th></th>\n",
       "      <th></th>\n",
       "      <th></th>\n",
       "      <th></th>\n",
       "      <th></th>\n",
       "      <th></th>\n",
       "      <th></th>\n",
       "      <th></th>\n",
       "      <th></th>\n",
       "      <th></th>\n",
       "      <th></th>\n",
       "      <th></th>\n",
       "      <th></th>\n",
       "      <th></th>\n",
       "      <th></th>\n",
       "      <th></th>\n",
       "      <th></th>\n",
       "      <th></th>\n",
       "      <th></th>\n",
       "      <th></th>\n",
       "    </tr>\n",
       "  </thead>\n",
       "  <tbody>\n",
       "    <tr>\n",
       "      <th>2595</th>\n",
       "      <td>https://www.airbnb.com/rooms/2595</td>\n",
       "      <td>20190806030549</td>\n",
       "      <td>2019-08-07</td>\n",
       "      <td>Skylit Midtown Castle</td>\n",
       "      <td>Find your romantic getaway to this beautiful, ...</td>\n",
       "      <td>- Spacious (500+ft²), immaculate and nicely fu...</td>\n",
       "      <td>Find your romantic getaway to this beautiful, ...</td>\n",
       "      <td>none</td>\n",
       "      <td>Centrally located in the heart of Manhattan ju...</td>\n",
       "      <td>NaN</td>\n",
       "      <td>Apartment is located on 37th Street between 5t...</td>\n",
       "      <td>Guests have full access to the kitchen, bathro...</td>\n",
       "      <td>I am a Sound Therapy Practitioner and Kundalin...</td>\n",
       "      <td>Make yourself at home, respect the space and t...</td>\n",
       "      <td>NaN</td>\n",
       "      <td>NaN</td>\n",
       "      <td>https://a0.muscache.com/im/pictures/f0813a11-4...</td>\n",
       "      <td>NaN</td>\n",
       "      <td>2845</td>\n",
       "      <td>https://www.airbnb.com/users/show/2845</td>\n",
       "      <td>Jennifer</td>\n",
       "      <td>2008-09-09</td>\n",
       "      <td>New York, New York, United States</td>\n",
       "      <td>A New Yorker since 2000! My passion is creatin...</td>\n",
       "      <td>within a few hours</td>\n",
       "      <td>90%</td>\n",
       "      <td>NaN</td>\n",
       "      <td>f</td>\n",
       "      <td>https://a0.muscache.com/im/users/2845/profile_...</td>\n",
       "      <td>https://a0.muscache.com/im/users/2845/profile_...</td>\n",
       "      <td>Midtown</td>\n",
       "      <td>5.0</td>\n",
       "      <td>5.0</td>\n",
       "      <td>['email', 'phone', 'reviews', 'kba', 'work_ema...</td>\n",
       "      <td>t</td>\n",
       "      <td>t</td>\n",
       "      <td>New York, NY, United States</td>\n",
       "      <td>Midtown</td>\n",
       "      <td>Midtown</td>\n",
       "      <td>Manhattan</td>\n",
       "      <td>...</td>\n",
       "      <td>$0.00</td>\n",
       "      <td>1</td>\n",
       "      <td>1125</td>\n",
       "      <td>1</td>\n",
       "      <td>1</td>\n",
       "      <td>1125</td>\n",
       "      <td>1125</td>\n",
       "      <td>1.0</td>\n",
       "      <td>1125.0</td>\n",
       "      <td>a week ago</td>\n",
       "      <td>t</td>\n",
       "      <td>13</td>\n",
       "      <td>17</td>\n",
       "      <td>31</td>\n",
       "      <td>288</td>\n",
       "      <td>2019-08-07</td>\n",
       "      <td>46</td>\n",
       "      <td>12</td>\n",
       "      <td>2009-11-21</td>\n",
       "      <td>2019-07-14</td>\n",
       "      <td>95.0</td>\n",
       "      <td>10.0</td>\n",
       "      <td>9.0</td>\n",
       "      <td>10.0</td>\n",
       "      <td>10.0</td>\n",
       "      <td>10.0</td>\n",
       "      <td>9.0</td>\n",
       "      <td>f</td>\n",
       "      <td>NaN</td>\n",
       "      <td>NaN</td>\n",
       "      <td>f</td>\n",
       "      <td>f</td>\n",
       "      <td>strict_14_with_grace_period</td>\n",
       "      <td>t</td>\n",
       "      <td>t</td>\n",
       "      <td>2</td>\n",
       "      <td>1</td>\n",
       "      <td>0</td>\n",
       "      <td>1</td>\n",
       "      <td>0.39</td>\n",
       "    </tr>\n",
       "    <tr>\n",
       "      <th>3647</th>\n",
       "      <td>https://www.airbnb.com/rooms/3647</td>\n",
       "      <td>20190806030549</td>\n",
       "      <td>2019-08-06</td>\n",
       "      <td>THE VILLAGE OF HARLEM....NEW YORK !</td>\n",
       "      <td>NaN</td>\n",
       "      <td>WELCOME TO OUR INTERNATIONAL URBAN COMMUNITY T...</td>\n",
       "      <td>WELCOME TO OUR INTERNATIONAL URBAN COMMUNITY T...</td>\n",
       "      <td>none</td>\n",
       "      <td>NaN</td>\n",
       "      <td>NaN</td>\n",
       "      <td>NaN</td>\n",
       "      <td>NaN</td>\n",
       "      <td>NaN</td>\n",
       "      <td>Upon arrival please have a legibile copy of yo...</td>\n",
       "      <td>NaN</td>\n",
       "      <td>NaN</td>\n",
       "      <td>https://a0.muscache.com/im/pictures/838341/9b3...</td>\n",
       "      <td>NaN</td>\n",
       "      <td>4632</td>\n",
       "      <td>https://www.airbnb.com/users/show/4632</td>\n",
       "      <td>Elisabeth</td>\n",
       "      <td>2008-11-25</td>\n",
       "      <td>New York, New York, United States</td>\n",
       "      <td>Make Up Artist National/ (Website hidden by Ai...</td>\n",
       "      <td>within a day</td>\n",
       "      <td>100%</td>\n",
       "      <td>NaN</td>\n",
       "      <td>f</td>\n",
       "      <td>https://a0.muscache.com/im/users/4632/profile_...</td>\n",
       "      <td>https://a0.muscache.com/im/users/4632/profile_...</td>\n",
       "      <td>Harlem</td>\n",
       "      <td>1.0</td>\n",
       "      <td>1.0</td>\n",
       "      <td>['email', 'phone', 'google', 'reviews', 'jumio...</td>\n",
       "      <td>t</td>\n",
       "      <td>t</td>\n",
       "      <td>New York, NY, United States</td>\n",
       "      <td>Harlem</td>\n",
       "      <td>Harlem</td>\n",
       "      <td>Manhattan</td>\n",
       "      <td>...</td>\n",
       "      <td>$20.00</td>\n",
       "      <td>3</td>\n",
       "      <td>7</td>\n",
       "      <td>3</td>\n",
       "      <td>3</td>\n",
       "      <td>7</td>\n",
       "      <td>7</td>\n",
       "      <td>3.0</td>\n",
       "      <td>7.0</td>\n",
       "      <td>35 months ago</td>\n",
       "      <td>t</td>\n",
       "      <td>30</td>\n",
       "      <td>60</td>\n",
       "      <td>90</td>\n",
       "      <td>365</td>\n",
       "      <td>2019-08-06</td>\n",
       "      <td>0</td>\n",
       "      <td>0</td>\n",
       "      <td>NaN</td>\n",
       "      <td>NaN</td>\n",
       "      <td>NaN</td>\n",
       "      <td>NaN</td>\n",
       "      <td>NaN</td>\n",
       "      <td>NaN</td>\n",
       "      <td>NaN</td>\n",
       "      <td>NaN</td>\n",
       "      <td>NaN</td>\n",
       "      <td>f</td>\n",
       "      <td>NaN</td>\n",
       "      <td>NaN</td>\n",
       "      <td>f</td>\n",
       "      <td>f</td>\n",
       "      <td>strict_14_with_grace_period</td>\n",
       "      <td>t</td>\n",
       "      <td>t</td>\n",
       "      <td>1</td>\n",
       "      <td>0</td>\n",
       "      <td>1</td>\n",
       "      <td>0</td>\n",
       "      <td>NaN</td>\n",
       "    </tr>\n",
       "    <tr>\n",
       "      <th>3831</th>\n",
       "      <td>https://www.airbnb.com/rooms/3831</td>\n",
       "      <td>20190806030549</td>\n",
       "      <td>2019-08-06</td>\n",
       "      <td>Cozy Entire Floor of Brownstone</td>\n",
       "      <td>Urban retreat: enjoy 500 s.f. floor in 1899 br...</td>\n",
       "      <td>Greetings!      We own a double-duplex brownst...</td>\n",
       "      <td>Urban retreat: enjoy 500 s.f. floor in 1899 br...</td>\n",
       "      <td>none</td>\n",
       "      <td>Just the right mix of urban center and local n...</td>\n",
       "      <td>NaN</td>\n",
       "      <td>B52 bus for a 10-minute ride to downtown Brook...</td>\n",
       "      <td>You will have exclusive use of and access to: ...</td>\n",
       "      <td>We'll be around, but since you have the top fl...</td>\n",
       "      <td>Smoking - outside please; pets allowed but ple...</td>\n",
       "      <td>NaN</td>\n",
       "      <td>NaN</td>\n",
       "      <td>https://a0.muscache.com/im/pictures/e49999c2-9...</td>\n",
       "      <td>NaN</td>\n",
       "      <td>4869</td>\n",
       "      <td>https://www.airbnb.com/users/show/4869</td>\n",
       "      <td>LisaRoxanne</td>\n",
       "      <td>2008-12-07</td>\n",
       "      <td>New York, New York, United States</td>\n",
       "      <td>Laid-back bi-coastal actor/professor/attorney.</td>\n",
       "      <td>within an hour</td>\n",
       "      <td>90%</td>\n",
       "      <td>NaN</td>\n",
       "      <td>f</td>\n",
       "      <td>https://a0.muscache.com/im/users/4869/profile_...</td>\n",
       "      <td>https://a0.muscache.com/im/users/4869/profile_...</td>\n",
       "      <td>Clinton Hill</td>\n",
       "      <td>1.0</td>\n",
       "      <td>1.0</td>\n",
       "      <td>['email', 'phone', 'reviews', 'kba']</td>\n",
       "      <td>t</td>\n",
       "      <td>t</td>\n",
       "      <td>Brooklyn, NY, United States</td>\n",
       "      <td>Brooklyn</td>\n",
       "      <td>Clinton Hill</td>\n",
       "      <td>Brooklyn</td>\n",
       "      <td>...</td>\n",
       "      <td>$0.00</td>\n",
       "      <td>1</td>\n",
       "      <td>730</td>\n",
       "      <td>1</td>\n",
       "      <td>1</td>\n",
       "      <td>730</td>\n",
       "      <td>730</td>\n",
       "      <td>1.0</td>\n",
       "      <td>730.0</td>\n",
       "      <td>today</td>\n",
       "      <td>t</td>\n",
       "      <td>0</td>\n",
       "      <td>1</td>\n",
       "      <td>4</td>\n",
       "      <td>212</td>\n",
       "      <td>2019-08-06</td>\n",
       "      <td>274</td>\n",
       "      <td>70</td>\n",
       "      <td>2014-09-30</td>\n",
       "      <td>2019-07-26</td>\n",
       "      <td>90.0</td>\n",
       "      <td>10.0</td>\n",
       "      <td>9.0</td>\n",
       "      <td>10.0</td>\n",
       "      <td>9.0</td>\n",
       "      <td>10.0</td>\n",
       "      <td>9.0</td>\n",
       "      <td>f</td>\n",
       "      <td>NaN</td>\n",
       "      <td>NaN</td>\n",
       "      <td>f</td>\n",
       "      <td>f</td>\n",
       "      <td>moderate</td>\n",
       "      <td>f</td>\n",
       "      <td>f</td>\n",
       "      <td>1</td>\n",
       "      <td>1</td>\n",
       "      <td>0</td>\n",
       "      <td>0</td>\n",
       "      <td>4.64</td>\n",
       "    </tr>\n",
       "    <tr>\n",
       "      <th>5022</th>\n",
       "      <td>https://www.airbnb.com/rooms/5022</td>\n",
       "      <td>20190806030549</td>\n",
       "      <td>2019-08-06</td>\n",
       "      <td>Entire Apt: Spacious Studio/Loft by central park</td>\n",
       "      <td>NaN</td>\n",
       "      <td>Loft apartment with high ceiling and wood floo...</td>\n",
       "      <td>Loft apartment with high ceiling and wood floo...</td>\n",
       "      <td>none</td>\n",
       "      <td>NaN</td>\n",
       "      <td>NaN</td>\n",
       "      <td>NaN</td>\n",
       "      <td>NaN</td>\n",
       "      <td>NaN</td>\n",
       "      <td>Please be considerate when staying in the apar...</td>\n",
       "      <td>NaN</td>\n",
       "      <td>NaN</td>\n",
       "      <td>https://a0.muscache.com/im/pictures/feb453bd-f...</td>\n",
       "      <td>NaN</td>\n",
       "      <td>7192</td>\n",
       "      <td>https://www.airbnb.com/users/show/7192</td>\n",
       "      <td>Laura</td>\n",
       "      <td>2009-01-29</td>\n",
       "      <td>Miami, Florida, United States</td>\n",
       "      <td>I have been a NYer for almost 10 years. I came...</td>\n",
       "      <td>NaN</td>\n",
       "      <td>NaN</td>\n",
       "      <td>NaN</td>\n",
       "      <td>f</td>\n",
       "      <td>https://a0.muscache.com/im/users/7192/profile_...</td>\n",
       "      <td>https://a0.muscache.com/im/users/7192/profile_...</td>\n",
       "      <td>East Harlem</td>\n",
       "      <td>1.0</td>\n",
       "      <td>1.0</td>\n",
       "      <td>['email', 'phone', 'facebook', 'reviews', 'kba']</td>\n",
       "      <td>t</td>\n",
       "      <td>t</td>\n",
       "      <td>New York, NY, United States</td>\n",
       "      <td>East Harlem</td>\n",
       "      <td>East Harlem</td>\n",
       "      <td>Manhattan</td>\n",
       "      <td>...</td>\n",
       "      <td>$20.00</td>\n",
       "      <td>10</td>\n",
       "      <td>120</td>\n",
       "      <td>10</td>\n",
       "      <td>10</td>\n",
       "      <td>120</td>\n",
       "      <td>120</td>\n",
       "      <td>10.0</td>\n",
       "      <td>120.0</td>\n",
       "      <td>4 months ago</td>\n",
       "      <td>t</td>\n",
       "      <td>0</td>\n",
       "      <td>0</td>\n",
       "      <td>0</td>\n",
       "      <td>0</td>\n",
       "      <td>2019-08-06</td>\n",
       "      <td>9</td>\n",
       "      <td>2</td>\n",
       "      <td>2012-03-20</td>\n",
       "      <td>2018-11-19</td>\n",
       "      <td>93.0</td>\n",
       "      <td>10.0</td>\n",
       "      <td>9.0</td>\n",
       "      <td>10.0</td>\n",
       "      <td>10.0</td>\n",
       "      <td>9.0</td>\n",
       "      <td>10.0</td>\n",
       "      <td>f</td>\n",
       "      <td>NaN</td>\n",
       "      <td>NaN</td>\n",
       "      <td>f</td>\n",
       "      <td>f</td>\n",
       "      <td>strict_14_with_grace_period</td>\n",
       "      <td>t</td>\n",
       "      <td>t</td>\n",
       "      <td>1</td>\n",
       "      <td>1</td>\n",
       "      <td>0</td>\n",
       "      <td>0</td>\n",
       "      <td>0.10</td>\n",
       "    </tr>\n",
       "    <tr>\n",
       "      <th>5099</th>\n",
       "      <td>https://www.airbnb.com/rooms/5099</td>\n",
       "      <td>20190806030549</td>\n",
       "      <td>2019-08-06</td>\n",
       "      <td>Large Cozy 1 BR Apartment In Midtown East</td>\n",
       "      <td>My large 1 bedroom apartment is true New York ...</td>\n",
       "      <td>I have a large 1 bedroom apartment centrally l...</td>\n",
       "      <td>My large 1 bedroom apartment is true New York ...</td>\n",
       "      <td>none</td>\n",
       "      <td>My neighborhood in Midtown East is called Murr...</td>\n",
       "      <td>Read My Full Listing For All Information. New ...</td>\n",
       "      <td>From the apartment is a 10 minute walk to Gran...</td>\n",
       "      <td>I will meet you upon arrival.</td>\n",
       "      <td>I usually check in with guests via text or ema...</td>\n",
       "      <td>• Check-in time is 2PM. • Check-out time is 12...</td>\n",
       "      <td>NaN</td>\n",
       "      <td>NaN</td>\n",
       "      <td>https://a0.muscache.com/im/pictures/be2fdcf6-e...</td>\n",
       "      <td>NaN</td>\n",
       "      <td>7322</td>\n",
       "      <td>https://www.airbnb.com/users/show/7322</td>\n",
       "      <td>Chris</td>\n",
       "      <td>2009-02-02</td>\n",
       "      <td>New York, New York, United States</td>\n",
       "      <td>I'm an artist, writer, traveler, and a native ...</td>\n",
       "      <td>within a few hours</td>\n",
       "      <td>90%</td>\n",
       "      <td>NaN</td>\n",
       "      <td>f</td>\n",
       "      <td>https://a0.muscache.com/im/pictures/user/26745...</td>\n",
       "      <td>https://a0.muscache.com/im/pictures/user/26745...</td>\n",
       "      <td>Flatiron District</td>\n",
       "      <td>1.0</td>\n",
       "      <td>1.0</td>\n",
       "      <td>['email', 'phone', 'reviews', 'jumio', 'govern...</td>\n",
       "      <td>t</td>\n",
       "      <td>f</td>\n",
       "      <td>New York, NY, United States</td>\n",
       "      <td>Midtown East</td>\n",
       "      <td>Murray Hill</td>\n",
       "      <td>Manhattan</td>\n",
       "      <td>...</td>\n",
       "      <td>$100.00</td>\n",
       "      <td>3</td>\n",
       "      <td>21</td>\n",
       "      <td>3</td>\n",
       "      <td>3</td>\n",
       "      <td>21</td>\n",
       "      <td>21</td>\n",
       "      <td>3.0</td>\n",
       "      <td>21.0</td>\n",
       "      <td>4 days ago</td>\n",
       "      <td>t</td>\n",
       "      <td>24</td>\n",
       "      <td>33</td>\n",
       "      <td>63</td>\n",
       "      <td>127</td>\n",
       "      <td>2019-08-06</td>\n",
       "      <td>75</td>\n",
       "      <td>10</td>\n",
       "      <td>2009-04-20</td>\n",
       "      <td>2019-07-21</td>\n",
       "      <td>89.0</td>\n",
       "      <td>10.0</td>\n",
       "      <td>9.0</td>\n",
       "      <td>10.0</td>\n",
       "      <td>10.0</td>\n",
       "      <td>9.0</td>\n",
       "      <td>9.0</td>\n",
       "      <td>f</td>\n",
       "      <td>NaN</td>\n",
       "      <td>NaN</td>\n",
       "      <td>f</td>\n",
       "      <td>f</td>\n",
       "      <td>strict_14_with_grace_period</td>\n",
       "      <td>t</td>\n",
       "      <td>t</td>\n",
       "      <td>1</td>\n",
       "      <td>1</td>\n",
       "      <td>0</td>\n",
       "      <td>0</td>\n",
       "      <td>0.60</td>\n",
       "    </tr>\n",
       "  </tbody>\n",
       "</table>\n",
       "<p>5 rows × 105 columns</p>\n",
       "</div>"
      ],
      "text/plain": [
       "                            listing_url  ...  reviews_per_month\n",
       "id                                       ...                   \n",
       "2595  https://www.airbnb.com/rooms/2595  ...               0.39\n",
       "3647  https://www.airbnb.com/rooms/3647  ...                NaN\n",
       "3831  https://www.airbnb.com/rooms/3831  ...               4.64\n",
       "5022  https://www.airbnb.com/rooms/5022  ...               0.10\n",
       "5099  https://www.airbnb.com/rooms/5099  ...               0.60\n",
       "\n",
       "[5 rows x 105 columns]"
      ]
     },
     "execution_count": 6,
     "metadata": {
      "tags": []
     },
     "output_type": "execute_result"
    }
   ],
   "source": [
    "data_extra = pd.read_csv('data/listings.csv', index_col='id') # found supportive datasets to increase r2 score \n",
    "data_extra.head()"
   ]
  },
  {
   "cell_type": "code",
   "execution_count": null,
   "metadata": {
    "colab": {
     "base_uri": "https://localhost:8080/",
     "height": 317
    },
    "id": "dCZtuv4JnMQW",
    "outputId": "c9fe0c41-e9ab-4e68-a93e-419bad35aa83"
   },
   "outputs": [
    {
     "data": {
      "text/html": [
       "<div>\n",
       "<style scoped>\n",
       "    .dataframe tbody tr th:only-of-type {\n",
       "        vertical-align: middle;\n",
       "    }\n",
       "\n",
       "    .dataframe tbody tr th {\n",
       "        vertical-align: top;\n",
       "    }\n",
       "\n",
       "    .dataframe thead th {\n",
       "        text-align: right;\n",
       "    }\n",
       "</style>\n",
       "<table border=\"1\" class=\"dataframe\">\n",
       "  <thead>\n",
       "    <tr style=\"text-align: right;\">\n",
       "      <th></th>\n",
       "      <th>host_id</th>\n",
       "      <th>latitude</th>\n",
       "      <th>longitude</th>\n",
       "      <th>price</th>\n",
       "      <th>minimum_nights</th>\n",
       "      <th>number_of_reviews</th>\n",
       "      <th>reviews_per_month</th>\n",
       "      <th>calculated_host_listings_count</th>\n",
       "      <th>availability_365</th>\n",
       "      <th>accommodates</th>\n",
       "      <th>review_scores_value</th>\n",
       "      <th>review_scores_cleanliness</th>\n",
       "      <th>review_scores_location</th>\n",
       "      <th>review_scores_accuracy</th>\n",
       "      <th>review_scores_communication</th>\n",
       "      <th>review_scores_checkin</th>\n",
       "      <th>review_scores_rating</th>\n",
       "      <th>maximum_nights</th>\n",
       "      <th>bathrooms</th>\n",
       "      <th>bedrooms</th>\n",
       "      <th>beds</th>\n",
       "    </tr>\n",
       "  </thead>\n",
       "  <tbody>\n",
       "    <tr>\n",
       "      <th>count</th>\n",
       "      <td>4.889500e+04</td>\n",
       "      <td>48895.000000</td>\n",
       "      <td>48895.000000</td>\n",
       "      <td>48895.000000</td>\n",
       "      <td>48895.000000</td>\n",
       "      <td>48895.000000</td>\n",
       "      <td>38843.000000</td>\n",
       "      <td>48895.000000</td>\n",
       "      <td>48895.000000</td>\n",
       "      <td>45524.000000</td>\n",
       "      <td>36266.000000</td>\n",
       "      <td>36301.000000</td>\n",
       "      <td>36264.000000</td>\n",
       "      <td>36284.000000</td>\n",
       "      <td>36290.000000</td>\n",
       "      <td>36268.000000</td>\n",
       "      <td>36322.000000</td>\n",
       "      <td>4.552400e+04</td>\n",
       "      <td>45470.000000</td>\n",
       "      <td>45503.000000</td>\n",
       "      <td>45487.000000</td>\n",
       "    </tr>\n",
       "    <tr>\n",
       "      <th>mean</th>\n",
       "      <td>6.762001e+07</td>\n",
       "      <td>40.728949</td>\n",
       "      <td>-73.952170</td>\n",
       "      <td>152.720687</td>\n",
       "      <td>7.029962</td>\n",
       "      <td>23.274466</td>\n",
       "      <td>1.373221</td>\n",
       "      <td>7.143982</td>\n",
       "      <td>112.781327</td>\n",
       "      <td>2.823851</td>\n",
       "      <td>9.405421</td>\n",
       "      <td>9.286025</td>\n",
       "      <td>9.569683</td>\n",
       "      <td>9.630057</td>\n",
       "      <td>9.763544</td>\n",
       "      <td>9.754632</td>\n",
       "      <td>94.011150</td>\n",
       "      <td>4.869897e+04</td>\n",
       "      <td>1.141115</td>\n",
       "      <td>1.166297</td>\n",
       "      <td>1.536989</td>\n",
       "    </tr>\n",
       "    <tr>\n",
       "      <th>std</th>\n",
       "      <td>7.861097e+07</td>\n",
       "      <td>0.054530</td>\n",
       "      <td>0.046157</td>\n",
       "      <td>240.154170</td>\n",
       "      <td>20.510550</td>\n",
       "      <td>44.550582</td>\n",
       "      <td>1.680442</td>\n",
       "      <td>32.952519</td>\n",
       "      <td>131.622289</td>\n",
       "      <td>1.843100</td>\n",
       "      <td>0.899562</td>\n",
       "      <td>1.070661</td>\n",
       "      <td>0.754216</td>\n",
       "      <td>0.827604</td>\n",
       "      <td>0.713807</td>\n",
       "      <td>0.706209</td>\n",
       "      <td>8.434653</td>\n",
       "      <td>1.006577e+07</td>\n",
       "      <td>0.427321</td>\n",
       "      <td>0.732174</td>\n",
       "      <td>1.097193</td>\n",
       "    </tr>\n",
       "    <tr>\n",
       "      <th>min</th>\n",
       "      <td>2.438000e+03</td>\n",
       "      <td>40.499790</td>\n",
       "      <td>-74.244420</td>\n",
       "      <td>0.000000</td>\n",
       "      <td>1.000000</td>\n",
       "      <td>0.000000</td>\n",
       "      <td>0.010000</td>\n",
       "      <td>1.000000</td>\n",
       "      <td>0.000000</td>\n",
       "      <td>1.000000</td>\n",
       "      <td>2.000000</td>\n",
       "      <td>2.000000</td>\n",
       "      <td>2.000000</td>\n",
       "      <td>2.000000</td>\n",
       "      <td>2.000000</td>\n",
       "      <td>2.000000</td>\n",
       "      <td>20.000000</td>\n",
       "      <td>1.000000e+00</td>\n",
       "      <td>0.000000</td>\n",
       "      <td>0.000000</td>\n",
       "      <td>0.000000</td>\n",
       "    </tr>\n",
       "    <tr>\n",
       "      <th>25%</th>\n",
       "      <td>7.822033e+06</td>\n",
       "      <td>40.690100</td>\n",
       "      <td>-73.983070</td>\n",
       "      <td>69.000000</td>\n",
       "      <td>1.000000</td>\n",
       "      <td>1.000000</td>\n",
       "      <td>0.190000</td>\n",
       "      <td>1.000000</td>\n",
       "      <td>0.000000</td>\n",
       "      <td>2.000000</td>\n",
       "      <td>9.000000</td>\n",
       "      <td>9.000000</td>\n",
       "      <td>9.000000</td>\n",
       "      <td>9.000000</td>\n",
       "      <td>10.000000</td>\n",
       "      <td>10.000000</td>\n",
       "      <td>92.000000</td>\n",
       "      <td>2.900000e+01</td>\n",
       "      <td>1.000000</td>\n",
       "      <td>1.000000</td>\n",
       "      <td>1.000000</td>\n",
       "    </tr>\n",
       "    <tr>\n",
       "      <th>50%</th>\n",
       "      <td>3.079382e+07</td>\n",
       "      <td>40.723070</td>\n",
       "      <td>-73.955680</td>\n",
       "      <td>106.000000</td>\n",
       "      <td>3.000000</td>\n",
       "      <td>5.000000</td>\n",
       "      <td>0.720000</td>\n",
       "      <td>1.000000</td>\n",
       "      <td>45.000000</td>\n",
       "      <td>2.000000</td>\n",
       "      <td>10.000000</td>\n",
       "      <td>10.000000</td>\n",
       "      <td>10.000000</td>\n",
       "      <td>10.000000</td>\n",
       "      <td>10.000000</td>\n",
       "      <td>10.000000</td>\n",
       "      <td>96.000000</td>\n",
       "      <td>1.111000e+03</td>\n",
       "      <td>1.000000</td>\n",
       "      <td>1.000000</td>\n",
       "      <td>1.000000</td>\n",
       "    </tr>\n",
       "    <tr>\n",
       "      <th>75%</th>\n",
       "      <td>1.074344e+08</td>\n",
       "      <td>40.763115</td>\n",
       "      <td>-73.936275</td>\n",
       "      <td>175.000000</td>\n",
       "      <td>5.000000</td>\n",
       "      <td>24.000000</td>\n",
       "      <td>2.020000</td>\n",
       "      <td>2.000000</td>\n",
       "      <td>227.000000</td>\n",
       "      <td>4.000000</td>\n",
       "      <td>10.000000</td>\n",
       "      <td>10.000000</td>\n",
       "      <td>10.000000</td>\n",
       "      <td>10.000000</td>\n",
       "      <td>10.000000</td>\n",
       "      <td>10.000000</td>\n",
       "      <td>100.000000</td>\n",
       "      <td>1.125000e+03</td>\n",
       "      <td>1.000000</td>\n",
       "      <td>1.000000</td>\n",
       "      <td>2.000000</td>\n",
       "    </tr>\n",
       "    <tr>\n",
       "      <th>max</th>\n",
       "      <td>2.743213e+08</td>\n",
       "      <td>40.913060</td>\n",
       "      <td>-73.712990</td>\n",
       "      <td>10000.000000</td>\n",
       "      <td>1250.000000</td>\n",
       "      <td>629.000000</td>\n",
       "      <td>58.500000</td>\n",
       "      <td>327.000000</td>\n",
       "      <td>365.000000</td>\n",
       "      <td>19.000000</td>\n",
       "      <td>10.000000</td>\n",
       "      <td>10.000000</td>\n",
       "      <td>10.000000</td>\n",
       "      <td>10.000000</td>\n",
       "      <td>10.000000</td>\n",
       "      <td>10.000000</td>\n",
       "      <td>100.000000</td>\n",
       "      <td>2.147484e+09</td>\n",
       "      <td>15.500000</td>\n",
       "      <td>14.000000</td>\n",
       "      <td>40.000000</td>\n",
       "    </tr>\n",
       "  </tbody>\n",
       "</table>\n",
       "</div>"
      ],
      "text/plain": [
       "            host_id      latitude  ...      bedrooms          beds\n",
       "count  4.889500e+04  48895.000000  ...  45503.000000  45487.000000\n",
       "mean   6.762001e+07     40.728949  ...      1.166297      1.536989\n",
       "std    7.861097e+07      0.054530  ...      0.732174      1.097193\n",
       "min    2.438000e+03     40.499790  ...      0.000000      0.000000\n",
       "25%    7.822033e+06     40.690100  ...      1.000000      1.000000\n",
       "50%    3.079382e+07     40.723070  ...      1.000000      1.000000\n",
       "75%    1.074344e+08     40.763115  ...      1.000000      2.000000\n",
       "max    2.743213e+08     40.913060  ...     14.000000     40.000000\n",
       "\n",
       "[8 rows x 21 columns]"
      ]
     },
     "execution_count": 7,
     "metadata": {
      "tags": []
     },
     "output_type": "execute_result"
    }
   ],
   "source": [
    "# merge additional dataset into main datasets, not including urls and such\n",
    "target_columns = [\"property_type\", \"accommodates\",  \"review_scores_value\", \"review_scores_cleanliness\", \"review_scores_location\", \"review_scores_accuracy\", \"review_scores_communication\", \"review_scores_checkin\", \"review_scores_rating\", \"maximum_nights\", \"host_is_superhost\", \"host_response_time\", \"host_response_rate\",  'bathrooms', 'bedrooms', 'beds']\n",
    "data = pd.merge(data_main, data_extra[target_columns], on='id', how='left')\n",
    "data.describe()"
   ]
  },
  {
   "cell_type": "code",
   "execution_count": null,
   "metadata": {
    "colab": {
     "base_uri": "https://localhost:8080/"
    },
    "id": "AasbRwK2n7YR",
    "outputId": "b5a0ccf6-489e-400f-a56d-48d5509e3001"
   },
   "outputs": [
    {
     "data": {
      "text/plain": [
       "name                                 16\n",
       "host_id                               0\n",
       "host_name                            21\n",
       "neighbourhood_group                   0\n",
       "neighbourhood                         0\n",
       "latitude                              0\n",
       "longitude                             0\n",
       "room_type                             0\n",
       "price                                 0\n",
       "minimum_nights                        0\n",
       "number_of_reviews                     0\n",
       "last_review                       10052\n",
       "reviews_per_month                 10052\n",
       "calculated_host_listings_count        0\n",
       "availability_365                      0\n",
       "property_type                      3371\n",
       "accommodates                       3371\n",
       "review_scores_value               12629\n",
       "review_scores_cleanliness         12594\n",
       "review_scores_location            12631\n",
       "review_scores_accuracy            12611\n",
       "review_scores_communication       12605\n",
       "review_scores_checkin             12627\n",
       "review_scores_rating              12573\n",
       "maximum_nights                     3371\n",
       "host_is_superhost                  3389\n",
       "host_response_time                19444\n",
       "host_response_rate                19444\n",
       "bathrooms                          3425\n",
       "bedrooms                           3392\n",
       "beds                               3408\n",
       "dtype: int64"
      ]
     },
     "execution_count": 8,
     "metadata": {
      "tags": []
     },
     "output_type": "execute_result"
    }
   ],
   "source": [
    "#check which ones have null values\n",
    "data.isnull().sum()"
   ]
  },
  {
   "cell_type": "markdown",
   "metadata": {
    "id": "tZjdxuO-GBkx"
   },
   "source": [
    "##1.3 Graphical Analysis"
   ]
  },
  {
   "cell_type": "markdown",
   "metadata": {
    "id": "uxYpQa99y64x"
   },
   "source": [
    "In the other file called CS513-final-project-airbnb-nyc-data-analysis.ipynb"
   ]
  },
  {
   "cell_type": "markdown",
   "metadata": {
    "id": "tUIq3u-cn8Zv"
   },
   "source": [
    "## 2 Pre-processing\n",
    "### 2.1 Data cleaning"
   ]
  },
  {
   "cell_type": "code",
   "execution_count": null,
   "metadata": {
    "id": "W03M-EXMkt2L"
   },
   "outputs": [],
   "source": [
    "# handling missing values\n",
    "data['reviews_per_month'] = data['number_of_reviews'] / 12\n",
    "data.drop(columns=['last_review'], inplace=True)\n",
    "\n",
    "reviews = ['review_scores_value', 'review_scores_cleanliness', 'review_scores_location', 'review_scores_accuracy', 'review_scores_communication', 'review_scores_checkin', 'review_scores_rating']\n",
    "for i in reviews:\n",
    "  data[i].fillna(data[i].mean(), inplace=True)\n",
    "\n",
    "data['accommodates'].fillna(data['accommodates'].mean(), inplace=True)\n",
    "data['maximum_nights'].fillna(data['maximum_nights'].mean(), inplace=True)\n",
    "\n",
    "cat_columns = ['host_response_time', 'host_response_rate', 'property_type', 'host_is_superhost']\n",
    "\n",
    "for i in cat_columns:\n",
    "  data[i].fillna(data[i].value_counts().idxmax(), inplace=True)\n",
    "\n",
    "a = ['bathrooms', 'beds', 'bedrooms']\n",
    "for i in a:\n",
    "  data[i].fillna(data[i].mean(), inplace=True)"
   ]
  },
  {
   "cell_type": "code",
   "execution_count": null,
   "metadata": {
    "colab": {
     "base_uri": "https://localhost:8080/"
    },
    "id": "ZxX58UWUpEmf",
    "outputId": "e45925b1-17b8-48af-ef60-e1b204e36540"
   },
   "outputs": [
    {
     "data": {
      "text/plain": [
       "name                              16\n",
       "host_id                            0\n",
       "host_name                         21\n",
       "neighbourhood_group                0\n",
       "neighbourhood                      0\n",
       "latitude                           0\n",
       "longitude                          0\n",
       "room_type                          0\n",
       "price                              0\n",
       "minimum_nights                     0\n",
       "number_of_reviews                  0\n",
       "reviews_per_month                  0\n",
       "calculated_host_listings_count     0\n",
       "availability_365                   0\n",
       "property_type                      0\n",
       "accommodates                       0\n",
       "review_scores_value                0\n",
       "review_scores_cleanliness          0\n",
       "review_scores_location             0\n",
       "review_scores_accuracy             0\n",
       "review_scores_communication        0\n",
       "review_scores_checkin              0\n",
       "review_scores_rating               0\n",
       "maximum_nights                     0\n",
       "host_is_superhost                  0\n",
       "host_response_time                 0\n",
       "host_response_rate                 0\n",
       "bathrooms                          0\n",
       "bedrooms                           0\n",
       "beds                               0\n",
       "dtype: int64"
      ]
     },
     "execution_count": 10,
     "metadata": {
      "tags": []
     },
     "output_type": "execute_result"
    }
   ],
   "source": [
    "# check\n",
    "data.isnull().sum()"
   ]
  },
  {
   "cell_type": "code",
   "execution_count": null,
   "metadata": {
    "id": "AhNsjYnBpW3L"
   },
   "outputs": [],
   "source": [
    "# handling outliers for price\n",
    "mean_price = data['price'].mean()\n",
    "std_price = data['price'].std()\n",
    "upper_limit = mean_price + 3 * std_price\n",
    "data = data[data['price'] <= upper_limit]"
   ]
  },
  {
   "cell_type": "code",
   "execution_count": null,
   "metadata": {
    "colab": {
     "base_uri": "https://localhost:8080/"
    },
    "id": "cmVFplD8n5oO",
    "outputId": "dd3bd7ae-4577-4154-c750-6b0e77eba8e4"
   },
   "outputs": [
    {
     "name": "stdout",
     "output_type": "stream",
     "text": [
      "<class 'pandas.core.frame.DataFrame'>\n",
      "Int64Index: 48507 entries, 2539 to 36487245\n",
      "Data columns (total 26 columns):\n",
      " #   Column                          Non-Null Count  Dtype  \n",
      "---  ------                          --------------  -----  \n",
      " 0   neighbourhood_group             48507 non-null  object \n",
      " 1   neighbourhood                   48507 non-null  object \n",
      " 2   latitude                        48507 non-null  float64\n",
      " 3   longitude                       48507 non-null  float64\n",
      " 4   room_type                       48507 non-null  object \n",
      " 5   price                           48507 non-null  int64  \n",
      " 6   minimum_nights                  48507 non-null  int64  \n",
      " 7   number_of_reviews               48507 non-null  int64  \n",
      " 8   calculated_host_listings_count  48507 non-null  int64  \n",
      " 9   availability_365                48507 non-null  int64  \n",
      " 10  property_type                   48507 non-null  object \n",
      " 11  accommodates                    48507 non-null  float64\n",
      " 12  review_scores_value             48507 non-null  float64\n",
      " 13  review_scores_cleanliness       48507 non-null  float64\n",
      " 14  review_scores_location          48507 non-null  float64\n",
      " 15  review_scores_accuracy          48507 non-null  float64\n",
      " 16  review_scores_communication     48507 non-null  float64\n",
      " 17  review_scores_checkin           48507 non-null  float64\n",
      " 18  review_scores_rating            48507 non-null  float64\n",
      " 19  maximum_nights                  48507 non-null  float64\n",
      " 20  host_is_superhost               48507 non-null  object \n",
      " 21  host_response_time              48507 non-null  object \n",
      " 22  host_response_rate              48507 non-null  object \n",
      " 23  bathrooms                       48507 non-null  float64\n",
      " 24  bedrooms                        48507 non-null  float64\n",
      " 25  beds                            48507 non-null  float64\n",
      "dtypes: float64(14), int64(5), object(7)\n",
      "memory usage: 10.0+ MB\n"
     ]
    }
   ],
   "source": [
    "# drop unnecessary columns for predicting price \n",
    "data.drop(columns=['name', 'host_id', 'host_name', 'reviews_per_month'], inplace=True)\n",
    "data.info()"
   ]
  },
  {
   "cell_type": "markdown",
   "metadata": {
    "id": "bNXF-leAphPY"
   },
   "source": [
    "### 2.2 Encoding for categorical values"
   ]
  },
  {
   "cell_type": "code",
   "execution_count": null,
   "metadata": {
    "colab": {
     "base_uri": "https://localhost:8080/"
    },
    "id": "t0rj4S2zodB3",
    "outputId": "ffdb5e22-ade8-46cd-ebe3-08b1f6c29089"
   },
   "outputs": [
    {
     "data": {
      "text/plain": [
       "neighbourhood_group                 int64\n",
       "neighbourhood                       int64\n",
       "latitude                          float64\n",
       "longitude                         float64\n",
       "room_type                           int64\n",
       "price                               int64\n",
       "minimum_nights                      int64\n",
       "number_of_reviews                   int64\n",
       "calculated_host_listings_count      int64\n",
       "availability_365                    int64\n",
       "property_type                       int64\n",
       "accommodates                      float64\n",
       "review_scores_value               float64\n",
       "review_scores_cleanliness         float64\n",
       "review_scores_location            float64\n",
       "review_scores_accuracy            float64\n",
       "review_scores_communication       float64\n",
       "review_scores_checkin             float64\n",
       "review_scores_rating              float64\n",
       "maximum_nights                    float64\n",
       "host_is_superhost                   int64\n",
       "host_response_time                  int64\n",
       "host_response_rate                  int64\n",
       "bathrooms                         float64\n",
       "bedrooms                          float64\n",
       "beds                              float64\n",
       "dtype: object"
      ]
     },
     "execution_count": 13,
     "metadata": {
      "tags": []
     },
     "output_type": "execute_result"
    }
   ],
   "source": [
    "# for categorical columns, such as neighbourhood_group, neighbourhood, room_type we need to encode them \n",
    "categorical_columns = data.select_dtypes(include=['object']).columns\n",
    "\n",
    "for column in categorical_columns:\n",
    "  data[column] = LabelEncoder().fit_transform(data[column])\n",
    "data.dtypes"
   ]
  },
  {
   "cell_type": "code",
   "execution_count": null,
   "metadata": {
    "colab": {
     "base_uri": "https://localhost:8080/",
     "height": 224
    },
    "id": "GarXkwK6wQDA",
    "outputId": "c878f7cc-e55b-4c97-ee2c-4495e0ef7ab5"
   },
   "outputs": [
    {
     "data": {
      "text/html": [
       "<div>\n",
       "<style scoped>\n",
       "    .dataframe tbody tr th:only-of-type {\n",
       "        vertical-align: middle;\n",
       "    }\n",
       "\n",
       "    .dataframe tbody tr th {\n",
       "        vertical-align: top;\n",
       "    }\n",
       "\n",
       "    .dataframe thead th {\n",
       "        text-align: right;\n",
       "    }\n",
       "</style>\n",
       "<table border=\"1\" class=\"dataframe\">\n",
       "  <thead>\n",
       "    <tr style=\"text-align: right;\">\n",
       "      <th></th>\n",
       "      <th>neighbourhood_group</th>\n",
       "      <th>neighbourhood</th>\n",
       "      <th>latitude</th>\n",
       "      <th>longitude</th>\n",
       "      <th>room_type</th>\n",
       "      <th>price</th>\n",
       "      <th>minimum_nights</th>\n",
       "      <th>number_of_reviews</th>\n",
       "      <th>calculated_host_listings_count</th>\n",
       "      <th>availability_365</th>\n",
       "      <th>property_type</th>\n",
       "      <th>accommodates</th>\n",
       "      <th>review_scores_value</th>\n",
       "      <th>review_scores_cleanliness</th>\n",
       "      <th>review_scores_location</th>\n",
       "      <th>review_scores_accuracy</th>\n",
       "      <th>review_scores_communication</th>\n",
       "      <th>review_scores_checkin</th>\n",
       "      <th>review_scores_rating</th>\n",
       "      <th>maximum_nights</th>\n",
       "      <th>host_is_superhost</th>\n",
       "      <th>host_response_time</th>\n",
       "      <th>host_response_rate</th>\n",
       "      <th>bathrooms</th>\n",
       "      <th>bedrooms</th>\n",
       "      <th>beds</th>\n",
       "    </tr>\n",
       "  </thead>\n",
       "  <tbody>\n",
       "    <tr>\n",
       "      <th>0</th>\n",
       "      <td>1</td>\n",
       "      <td>108</td>\n",
       "      <td>40.64749</td>\n",
       "      <td>-73.97237</td>\n",
       "      <td>1</td>\n",
       "      <td>149</td>\n",
       "      <td>1</td>\n",
       "      <td>9</td>\n",
       "      <td>6</td>\n",
       "      <td>365</td>\n",
       "      <td>1</td>\n",
       "      <td>2.823851</td>\n",
       "      <td>9.405421</td>\n",
       "      <td>9.286025</td>\n",
       "      <td>9.569683</td>\n",
       "      <td>9.630057</td>\n",
       "      <td>9.763544</td>\n",
       "      <td>9.754632</td>\n",
       "      <td>94.01115</td>\n",
       "      <td>48698.973355</td>\n",
       "      <td>0</td>\n",
       "      <td>3</td>\n",
       "      <td>2</td>\n",
       "      <td>1.141115</td>\n",
       "      <td>1.166297</td>\n",
       "      <td>1.536989</td>\n",
       "    </tr>\n",
       "    <tr>\n",
       "      <th>1</th>\n",
       "      <td>2</td>\n",
       "      <td>127</td>\n",
       "      <td>40.75362</td>\n",
       "      <td>-73.98377</td>\n",
       "      <td>0</td>\n",
       "      <td>225</td>\n",
       "      <td>1</td>\n",
       "      <td>45</td>\n",
       "      <td>2</td>\n",
       "      <td>355</td>\n",
       "      <td>1</td>\n",
       "      <td>2.000000</td>\n",
       "      <td>9.000000</td>\n",
       "      <td>9.000000</td>\n",
       "      <td>10.000000</td>\n",
       "      <td>10.000000</td>\n",
       "      <td>10.000000</td>\n",
       "      <td>10.000000</td>\n",
       "      <td>95.00000</td>\n",
       "      <td>1125.000000</td>\n",
       "      <td>0</td>\n",
       "      <td>2</td>\n",
       "      <td>67</td>\n",
       "      <td>1.000000</td>\n",
       "      <td>0.000000</td>\n",
       "      <td>1.000000</td>\n",
       "    </tr>\n",
       "    <tr>\n",
       "      <th>2</th>\n",
       "      <td>2</td>\n",
       "      <td>94</td>\n",
       "      <td>40.80902</td>\n",
       "      <td>-73.94190</td>\n",
       "      <td>1</td>\n",
       "      <td>150</td>\n",
       "      <td>3</td>\n",
       "      <td>0</td>\n",
       "      <td>1</td>\n",
       "      <td>365</td>\n",
       "      <td>1</td>\n",
       "      <td>2.000000</td>\n",
       "      <td>9.405421</td>\n",
       "      <td>9.286025</td>\n",
       "      <td>9.569683</td>\n",
       "      <td>9.630057</td>\n",
       "      <td>9.763544</td>\n",
       "      <td>9.754632</td>\n",
       "      <td>94.01115</td>\n",
       "      <td>7.000000</td>\n",
       "      <td>0</td>\n",
       "      <td>1</td>\n",
       "      <td>2</td>\n",
       "      <td>1.000000</td>\n",
       "      <td>1.000000</td>\n",
       "      <td>1.000000</td>\n",
       "    </tr>\n",
       "    <tr>\n",
       "      <th>3</th>\n",
       "      <td>1</td>\n",
       "      <td>41</td>\n",
       "      <td>40.68514</td>\n",
       "      <td>-73.95976</td>\n",
       "      <td>0</td>\n",
       "      <td>89</td>\n",
       "      <td>1</td>\n",
       "      <td>270</td>\n",
       "      <td>1</td>\n",
       "      <td>194</td>\n",
       "      <td>18</td>\n",
       "      <td>3.000000</td>\n",
       "      <td>9.000000</td>\n",
       "      <td>9.000000</td>\n",
       "      <td>10.000000</td>\n",
       "      <td>10.000000</td>\n",
       "      <td>9.000000</td>\n",
       "      <td>10.000000</td>\n",
       "      <td>90.00000</td>\n",
       "      <td>730.000000</td>\n",
       "      <td>0</td>\n",
       "      <td>3</td>\n",
       "      <td>67</td>\n",
       "      <td>1.000000</td>\n",
       "      <td>1.000000</td>\n",
       "      <td>4.000000</td>\n",
       "    </tr>\n",
       "    <tr>\n",
       "      <th>4</th>\n",
       "      <td>2</td>\n",
       "      <td>61</td>\n",
       "      <td>40.79851</td>\n",
       "      <td>-73.94399</td>\n",
       "      <td>0</td>\n",
       "      <td>80</td>\n",
       "      <td>10</td>\n",
       "      <td>9</td>\n",
       "      <td>1</td>\n",
       "      <td>0</td>\n",
       "      <td>1</td>\n",
       "      <td>1.000000</td>\n",
       "      <td>10.000000</td>\n",
       "      <td>9.000000</td>\n",
       "      <td>9.000000</td>\n",
       "      <td>10.000000</td>\n",
       "      <td>10.000000</td>\n",
       "      <td>10.000000</td>\n",
       "      <td>93.00000</td>\n",
       "      <td>120.000000</td>\n",
       "      <td>0</td>\n",
       "      <td>3</td>\n",
       "      <td>2</td>\n",
       "      <td>1.000000</td>\n",
       "      <td>1.166297</td>\n",
       "      <td>1.000000</td>\n",
       "    </tr>\n",
       "  </tbody>\n",
       "</table>\n",
       "</div>"
      ],
      "text/plain": [
       "   neighbourhood_group  neighbourhood  latitude  ...  bathrooms  bedrooms      beds\n",
       "0                    1            108  40.64749  ...   1.141115  1.166297  1.536989\n",
       "1                    2            127  40.75362  ...   1.000000  0.000000  1.000000\n",
       "2                    2             94  40.80902  ...   1.000000  1.000000  1.000000\n",
       "3                    1             41  40.68514  ...   1.000000  1.000000  4.000000\n",
       "4                    2             61  40.79851  ...   1.000000  1.166297  1.000000\n",
       "\n",
       "[5 rows x 26 columns]"
      ]
     },
     "execution_count": 14,
     "metadata": {
      "tags": []
     },
     "output_type": "execute_result"
    }
   ],
   "source": [
    "data = data.reset_index(drop=True)\n",
    "data.head()"
   ]
  },
  {
   "cell_type": "markdown",
   "metadata": {
    "id": "_FX1aXTFpkKE"
   },
   "source": [
    "### 2.3 Spliting data into training data and test data\n",
    "- Training data 80%\n",
    "- Test data 20%"
   ]
  },
  {
   "cell_type": "code",
   "execution_count": null,
   "metadata": {
    "id": "bS643XK8pBAT"
   },
   "outputs": [],
   "source": [
    "X_data = data.drop(columns=['price'])\n",
    "y_data = data['price']\n",
    "\n",
    "columns = X_data.columns\n",
    "scaler = StandardScaler()\n",
    "X_data[columns] = scaler.fit_transform(X_data[columns])\n",
    "\n",
    "X_train, X_test, y_train, y_test = train_test_split(X_data, y_data, test_size=0.2, shuffle=True, random_state=42)"
   ]
  },
  {
   "cell_type": "code",
   "execution_count": null,
   "metadata": {
    "colab": {
     "base_uri": "https://localhost:8080/"
    },
    "id": "ycEtea_BpYjR",
    "outputId": "044767ac-8368-4eae-e816-708eac0e3c12"
   },
   "outputs": [
    {
     "name": "stdout",
     "output_type": "stream",
     "text": [
      "The training data size is  38805\n",
      "The test data size is  9702\n"
     ]
    }
   ],
   "source": [
    "print('The training data size is ', X_train.shape[0])\n",
    "print('The test data size is ', X_test.shape[0])"
   ]
  },
  {
   "cell_type": "markdown",
   "metadata": {
    "id": "oIiwzYYOj3b_"
   },
   "source": [
    "# 3. Models"
   ]
  },
  {
   "cell_type": "markdown",
   "metadata": {
    "id": "h4M5W9p7EUfX"
   },
   "source": [
    "###3.1 Linear Regression"
   ]
  },
  {
   "cell_type": "code",
   "execution_count": null,
   "metadata": {
    "colab": {
     "base_uri": "https://localhost:8080/"
    },
    "id": "GH_4Lv7qkCDG",
    "outputId": "4845a745-aae3-4471-c7d3-dcb5fd5006a2"
   },
   "outputs": [
    {
     "name": "stdout",
     "output_type": "stream",
     "text": [
      "Linear Regression: Mean Squared Error:  6674.559548671224\n",
      "Linear Regression: Mean Absolute Error:  50.25209976668785\n",
      "Linear Regression: R2 Score:  0.4436278409418898\n"
     ]
    }
   ],
   "source": [
    "linear_model = LinearRegression().fit(X_train, y_train)\n",
    "y_pred_linear = linear_model.predict(X_test)\n",
    "\n",
    "mse_linear = mean_squared_error(y_pred_linear, y_test)\n",
    "mae_linear = mean_absolute_error(y_pred_linear, y_test)\n",
    "r2_linear = r2_score(y_test, y_pred_linear)\n",
    "\n",
    "print('Linear Regression: Mean Squared Error: ', mse_linear)\n",
    "print('Linear Regression: Mean Absolute Error: ', mae_linear)\n",
    "print('Linear Regression: R2 Score: ', r2_linear)"
   ]
  },
  {
   "cell_type": "code",
   "execution_count": null,
   "metadata": {
    "colab": {
     "base_uri": "https://localhost:8080/",
     "height": 464
    },
    "id": "Vb0fDol3rfOP",
    "outputId": "90d69c4f-1a97-4385-cee8-e949c80e46a7"
   },
   "outputs": [
    {
     "name": "stderr",
     "output_type": "stream",
     "text": [
      "/usr/local/lib/python3.6/dist-packages/seaborn/_decorators.py:43: FutureWarning: Pass the following variables as keyword args: x, y. From version 0.12, the only valid positional argument will be `data`, and passing other arguments without an explicit keyword will result in an error or misinterpretation.\n",
      "  FutureWarning\n"
     ]
    },
    {
     "data": {
      "text/plain": [
       "Text(0.5, 1.0, 'Linear Regression: The correlation between predictions and true values')"
      ]
     },
     "execution_count": 18,
     "metadata": {
      "tags": []
     },
     "output_type": "execute_result"
    },
    {
     "data": {
      "image/png": "[encoded data removed]",
      "text/plain": [
       "<Figure size 576x432 with 1 Axes>"
      ]
     },
     "metadata": {
      "tags": []
     },
     "output_type": "display_data"
    }
   ],
   "source": [
    "sns.set(rc={'figure.figsize': (8, 6)})\n",
    "sns.set_style('whitegrid')\n",
    "linear_plot = sns.regplot(y_pred_linear, y_test, marker=\"+\", color='r')\n",
    "linear_plot.set_title('Linear Regression: The correlation between predictions and true values')"
   ]
  },
  {
   "cell_type": "markdown",
   "metadata": {
    "id": "I36t-nyFrTvp"
   },
   "source": [
    "### 3.2 KNN Regressor"
   ]
  },
  {
   "cell_type": "code",
   "execution_count": null,
   "metadata": {
    "colab": {
     "base_uri": "https://localhost:8080/"
    },
    "id": "gx4gmNR5q20Z",
    "outputId": "497e5f8e-ce60-4792-f935-e347383ab176"
   },
   "outputs": [
    {
     "name": "stdout",
     "output_type": "stream",
     "text": [
      "KNN: Mean Squared Error:  5046.053980164456\n",
      "KNN: Mean Absolute Error:  41.22200233628805\n",
      "KNN: R2 Score:  0.5793753989015222\n"
     ]
    }
   ],
   "source": [
    "KNN_regressor = KNeighborsRegressor(algorithm='auto', leaf_size=30, metric='minkowski', metric_params=None, n_jobs=-1, n_neighbors=15, p=1, weights='uniform')\n",
    "KNN_regressor.fit(X_train, y_train)\n",
    "y_pred_KNN = KNN_regressor.predict(X_test)\n",
    "\n",
    "mse_KNN = mean_squared_error(y_pred_KNN, y_test)\n",
    "mae_KNN = mean_absolute_error(y_pred_KNN, y_test)\n",
    "r2_KNN = r2_score(y_test, y_pred_KNN)\n",
    "\n",
    "print(\"KNN: Mean Squared Error: \", mse_KNN)\n",
    "print(\"KNN: Mean Absolute Error: \", mae_KNN)\n",
    "print(\"KNN: R2 Score: \", r2_KNN)"
   ]
  },
  {
   "cell_type": "code",
   "execution_count": null,
   "metadata": {
    "colab": {
     "base_uri": "https://localhost:8080/",
     "height": 464
    },
    "id": "N7WvhLg7mRc6",
    "outputId": "84d587f0-4dd0-417d-d46e-060e64ebb2d2"
   },
   "outputs": [
    {
     "name": "stderr",
     "output_type": "stream",
     "text": [
      "/usr/local/lib/python3.6/dist-packages/seaborn/_decorators.py:43: FutureWarning: Pass the following variables as keyword args: x, y. From version 0.12, the only valid positional argument will be `data`, and passing other arguments without an explicit keyword will result in an error or misinterpretation.\n",
      "  FutureWarning\n"
     ]
    },
    {
     "data": {
      "text/plain": [
       "Text(0.5, 1.0, 'KNN: The correlation between predictions and true values')"
      ]
     },
     "execution_count": 21,
     "metadata": {
      "tags": []
     },
     "output_type": "execute_result"
    },
    {
     "data": {
      "image/png": "[encoded data removed]",
      "text/plain": [
       "<Figure size 576x432 with 1 Axes>"
      ]
     },
     "metadata": {
      "tags": []
     },
     "output_type": "display_data"
    }
   ],
   "source": [
    "sns.set(rc={'figure.figsize': (8, 6)})\n",
    "sns.set_style('whitegrid')\n",
    "knn_plot = sns.regplot(y_pred_KNN, y_test, marker=\"+\", color='r')\n",
    "knn_plot.set_title('KNN: The correlation between predictions and true values')"
   ]
  },
  {
   "cell_type": "markdown",
   "metadata": {
    "id": "OIqg6rzsoSHT"
   },
   "source": [
    "### 3.3 Support Vector Machine"
   ]
  },
  {
   "cell_type": "code",
   "execution_count": null,
   "metadata": {
    "colab": {
     "base_uri": "https://localhost:8080/"
    },
    "id": "5XEHlnWlon9J",
    "outputId": "b97f2100-4b0e-4cf9-bab6-dac19e6532c1"
   },
   "outputs": [
    {
     "name": "stdout",
     "output_type": "stream",
     "text": [
      "SVM: Mean Squared Error:  7257.050508209637\n",
      "SVM: Mean Absolute Error:  47.72579349248459\n",
      "SVM: R2 score:  0.3950730635926134\n"
     ]
    }
   ],
   "source": [
    "svr = LinearSVR(C=1, dual=True, epsilon=0.0, fit_intercept=True, intercept_scaling=1.0, loss='epsilon_insensitive', max_iter=1000, random_state=None, tol=0.0001, verbose=0)\n",
    "svr.fit(X_train, y_train)\n",
    "y_pred_svr = svr.predict(X_test)\n",
    "\n",
    "mse_svr = mean_squared_error(y_pred_svr, y_test)\n",
    "mae_svr = mean_absolute_error(y_pred_svr, y_test)\n",
    "r2_svr = r2_score(y_test, y_pred_svr)\n",
    "\n",
    "print('SVM: Mean Squared Error: ', mse_svr)\n",
    "print('SVM: Mean Absolute Error: ', mae_svr)\n",
    "print('SVM: R2 score: ', r2_svr)"
   ]
  },
  {
   "cell_type": "code",
   "execution_count": null,
   "metadata": {
    "colab": {
     "base_uri": "https://localhost:8080/",
     "height": 464
    },
    "id": "HatlQTjqpdyw",
    "outputId": "4ed3ea40-616c-43d1-9dd5-11f234ee650a"
   },
   "outputs": [
    {
     "name": "stderr",
     "output_type": "stream",
     "text": [
      "/usr/local/lib/python3.6/dist-packages/seaborn/_decorators.py:43: FutureWarning: Pass the following variables as keyword args: x, y. From version 0.12, the only valid positional argument will be `data`, and passing other arguments without an explicit keyword will result in an error or misinterpretation.\n",
      "  FutureWarning\n"
     ]
    },
    {
     "data": {
      "text/plain": [
       "Text(0.5, 1.0, 'Support Vector Machine: The correlation between predictions and true values')"
      ]
     },
     "execution_count": 23,
     "metadata": {
      "tags": []
     },
     "output_type": "execute_result"
    },
    {
     "data": {
      "image/png": "[encoded data removed]",
      "text/plain": [
       "<Figure size 576x432 with 1 Axes>"
      ]
     },
     "metadata": {
      "tags": []
     },
     "output_type": "display_data"
    }
   ],
   "source": [
    "sns.set(rc={'figure.figsize': (8, 6)})\n",
    "sns.set_style('whitegrid')\n",
    "svr_plot = sns.regplot(y_pred_svr, y_test, marker=\"+\", color='r')\n",
    "svr_plot.set_title('Support Vector Machine: The correlation between predictions and true values')"
   ]
  },
  {
   "cell_type": "code",
   "execution_count": null,
   "metadata": {
    "colab": {
     "base_uri": "https://localhost:8080/"
    },
    "id": "6KFkVLeH138n",
    "outputId": "0b40213e-0dbc-4da0-8c1e-08d23cd89c70"
   },
   "outputs": [
    {
     "name": "stdout",
     "output_type": "stream",
     "text": [
      "poly SVM: Mean Squared Error:  5730.922476527594\n",
      "poly SVM: Mean Absolute Error:  40.04913529225815\n",
      "poly SVM: R2 score:  0.5222867234295507\n"
     ]
    }
   ],
   "source": [
    "# polynomial svm regressor \n",
    "svr_poly = SVR(kernel='poly', C=1, gamma='auto', degree=3, epsilon=0.1, coef0=1)\n",
    "svr_poly.fit(X_train, y_train)\n",
    "y_pred_svr_poly = svr_poly.predict(X_test)\n",
    "\n",
    "mse_svr_poly = mean_squared_error(y_pred_svr_poly, y_test)\n",
    "mae_svr_poly = mean_absolute_error(y_pred_svr_poly, y_test)\n",
    "r2_svr_poly = r2_score(y_test, y_pred_svr_poly)\n",
    "\n",
    "print('poly SVM: Mean Squared Error: ', mse_svr_poly)\n",
    "print('poly SVM: Mean Absolute Error: ', mae_svr_poly)\n",
    "print('poly SVM: R2 score: ', r2_svr_poly)"
   ]
  },
  {
   "cell_type": "code",
   "execution_count": null,
   "metadata": {
    "colab": {
     "base_uri": "https://localhost:8080/",
     "height": 464
    },
    "id": "OylziJVmIU0W",
    "outputId": "8c21dc3d-5fe9-44b1-d1ef-38534208f2be"
   },
   "outputs": [
    {
     "name": "stderr",
     "output_type": "stream",
     "text": [
      "/usr/local/lib/python3.6/dist-packages/seaborn/_decorators.py:43: FutureWarning: Pass the following variables as keyword args: x, y. From version 0.12, the only valid positional argument will be `data`, and passing other arguments without an explicit keyword will result in an error or misinterpretation.\n",
      "  FutureWarning\n"
     ]
    },
    {
     "data": {
      "text/plain": [
       "Text(0.5, 1.0, 'Support Vector Machine(poly): The correlation between predictions and true values')"
      ]
     },
     "execution_count": 25,
     "metadata": {
      "tags": []
     },
     "output_type": "execute_result"
    },
    {
     "data": {
      "image/png": "[encoded data removed]",
      "text/plain": [
       "<Figure size 576x432 with 1 Axes>"
      ]
     },
     "metadata": {
      "tags": []
     },
     "output_type": "display_data"
    }
   ],
   "source": [
    "sns.set(rc={'figure.figsize': (8, 6)})\n",
    "sns.set_style('whitegrid')\n",
    "svr_plot = sns.regplot(y_pred_svr_poly, y_test, marker=\"+\", color='r')\n",
    "svr_plot.set_title('Support Vector Machine(poly): The correlation between predictions and true values')"
   ]
  },
  {
   "cell_type": "markdown",
   "metadata": {
    "id": "XZqtFBTP502y"
   },
   "source": [
    "### 3.4 Neural Networks"
   ]
  },
  {
   "cell_type": "code",
   "execution_count": null,
   "metadata": {
    "colab": {
     "base_uri": "https://localhost:8080/"
    },
    "id": "-cl5VXXaxGWX",
    "outputId": "791efa85-9956-4223-ae5d-3c3c153f1989"
   },
   "outputs": [
    {
     "name": "stdout",
     "output_type": "stream",
     "text": [
      "Model: \"sequential\"\n",
      "_________________________________________________________________\n",
      "Layer (type)                 Output Shape              Param #   \n",
      "=================================================================\n",
      "dense (Dense)                (None, 64)                1664      \n",
      "_________________________________________________________________\n",
      "dense_1 (Dense)              (None, 64)                4160      \n",
      "_________________________________________________________________\n",
      "dense_2 (Dense)              (None, 1)                 65        \n",
      "=================================================================\n",
      "Total params: 5,889\n",
      "Trainable params: 5,889\n",
      "Non-trainable params: 0\n",
      "_________________________________________________________________\n"
     ]
    }
   ],
   "source": [
    "# build neural network model\n",
    "def build_model():\n",
    "  model = keras.Sequential([\n",
    "                            layers.Dense(64, activation='relu', input_shape=([X_train.shape[1]])),\n",
    "                            layers.Dense(64, activation='relu'),\n",
    "                            layers.Dense(1)\n",
    "  ])\n",
    "\n",
    "  optimizer = tf.keras.optimizers.RMSprop(0.001)\n",
    "  model.compile(loss='mse', optimizer=optimizer, metrics=['mae', 'mse'])\n",
    "\n",
    "  return model\n",
    "\n",
    "model = build_model()\n",
    "model.summary()"
   ]
  },
  {
   "cell_type": "code",
   "execution_count": null,
   "metadata": {
    "colab": {
     "base_uri": "https://localhost:8080/"
    },
    "id": "jLnP_PwP6jwm",
    "outputId": "5ed3d84b-263e-4858-8763-43d2bbd3be26"
   },
   "outputs": [
    {
     "name": "stdout",
     "output_type": "stream",
     "text": [
      "\n",
      "Epoch: 0, loss:9913.2012,  mae:61.5298,  mse:9913.2012,  val_loss:5987.6621,  val_mae:47.1381,  val_mse:5987.6621,  \n",
      ".........."
     ]
    }
   ],
   "source": [
    "# fit the model to the training dataset\n",
    "history = model.fit(X_train, y_train, epochs=10, validation_split=0.2, verbose=0, callbacks=[tfdocs.modeling.EpochDots()])"
   ]
  },
  {
   "cell_type": "code",
   "execution_count": null,
   "metadata": {
    "colab": {
     "base_uri": "https://localhost:8080/"
    },
    "id": "D0YFXksV6z_5",
    "outputId": "794f4470-46a8-4665-d6cf-be2b039283c2"
   },
   "outputs": [
    {
     "name": "stdout",
     "output_type": "stream",
     "text": [
      "Neural Network: Mean Squared Error:  5126.333395327254\n",
      "Neural Network: Mean Absolute Error:  41.85889605571132\n",
      "Neural Network: R2 score:  0.572683536881812\n"
     ]
    }
   ],
   "source": [
    "y_pred_nn = model.predict(X_test)\n",
    "\n",
    "mse_nn = mean_squared_error(y_pred_nn, y_test)\n",
    "mae_nn = mean_absolute_error(y_pred_nn, y_test)\n",
    "r2_nn = r2_score(y_test, y_pred_nn)\n",
    "\n",
    "print('Neural Network: Mean Squared Error: ', mse_nn)\n",
    "print('Neural Network: Mean Absolute Error: ', mae_nn)\n",
    "print('Neural Network: R2 score: ', r2_nn)"
   ]
  },
  {
   "cell_type": "code",
   "execution_count": null,
   "metadata": {
    "colab": {
     "base_uri": "https://localhost:8080/",
     "height": 464
    },
    "id": "kUf80Tlx7X06",
    "outputId": "c82f6e34-91f0-49d4-a862-bebcee5bb5fc"
   },
   "outputs": [
    {
     "name": "stderr",
     "output_type": "stream",
     "text": [
      "/usr/local/lib/python3.6/dist-packages/seaborn/_decorators.py:43: FutureWarning: Pass the following variables as keyword args: x, y. From version 0.12, the only valid positional argument will be `data`, and passing other arguments without an explicit keyword will result in an error or misinterpretation.\n",
      "  FutureWarning\n"
     ]
    },
    {
     "data": {
      "text/plain": [
       "Text(0.5, 1.0, 'Neural Network: The correlation between predictions and true values')"
      ]
     },
     "execution_count": 29,
     "metadata": {
      "tags": []
     },
     "output_type": "execute_result"
    },
    {
     "data": {
      "image/png": "[encoded data removed]",
      "text/plain": [
       "<Figure size 576x432 with 1 Axes>"
      ]
     },
     "metadata": {
      "tags": []
     },
     "output_type": "display_data"
    }
   ],
   "source": [
    "sns.set(rc={'figure.figsize': (8, 6)})\n",
    "sns.set_style('whitegrid')\n",
    "nn_plot = sns.regplot(y_pred_nn, y_test, marker=\"+\", color='r')\n",
    "nn_plot.set_title('Neural Network: The correlation between predictions and true values')"
   ]
  },
  {
   "cell_type": "markdown",
   "metadata": {
    "id": "7lI7UNki8MLf"
   },
   "source": [
    "### 3.5 Decision Tree"
   ]
  },
  {
   "cell_type": "code",
   "execution_count": null,
   "metadata": {
    "colab": {
     "base_uri": "https://localhost:8080/"
    },
    "id": "Wn8dC5mc8Rm4",
    "outputId": "b931001d-593a-43ed-b48f-4e42b13d13e4"
   },
   "outputs": [
    {
     "name": "stdout",
     "output_type": "stream",
     "text": [
      "Decision Tree: Mean Squared Error:  5652.013259753254\n",
      "Decision Tree: Mean Absolute Error:  44.117490254623334\n",
      "Decision Tree: R2 score:  0.528864369637691\n"
     ]
    }
   ],
   "source": [
    "dtree = tree.DecisionTreeRegressor(max_depth = 7, min_samples_leaf = 4, min_samples_split = 4)\n",
    "dtree.fit(X_train, y_train)\n",
    "y_pred_tree = dtree.predict(X_test)\n",
    "\n",
    "mse_tree = mean_squared_error(y_test, y_pred_tree)\n",
    "mae_tree = mean_absolute_error(y_test, y_pred_tree)\n",
    "r2_tree = r2_score(y_test, y_pred_tree)\n",
    "\n",
    "print('Decision Tree: Mean Squared Error: ', mse_tree)\n",
    "print('Decision Tree: Mean Absolute Error: ', mae_tree)\n",
    "print('Decision Tree: R2 score: ', r2_tree)"
   ]
  },
  {
   "cell_type": "code",
   "execution_count": null,
   "metadata": {
    "colab": {
     "base_uri": "https://localhost:8080/",
     "height": 464
    },
    "id": "ip9p6W4488G7",
    "outputId": "9145dc59-daa7-4bb3-c7d9-9b9432549f18"
   },
   "outputs": [
    {
     "name": "stderr",
     "output_type": "stream",
     "text": [
      "/usr/local/lib/python3.6/dist-packages/seaborn/_decorators.py:43: FutureWarning: Pass the following variables as keyword args: x, y. From version 0.12, the only valid positional argument will be `data`, and passing other arguments without an explicit keyword will result in an error or misinterpretation.\n",
      "  FutureWarning\n"
     ]
    },
    {
     "data": {
      "text/plain": [
       "Text(0.5, 1.0, 'Decision Tree: The correlation between predictions and true values')"
      ]
     },
     "execution_count": 26,
     "metadata": {
      "tags": []
     },
     "output_type": "execute_result"
    },
    {
     "data": {
      "image/png": "[encoded data removed]",
      "text/plain": [
       "<Figure size 576x432 with 1 Axes>"
      ]
     },
     "metadata": {
      "tags": []
     },
     "output_type": "display_data"
    }
   ],
   "source": [
    "sns.set(rc={'figure.figsize': (8, 6)})\n",
    "sns.set_style('whitegrid')\n",
    "dtree_plot = sns.regplot(y_pred_tree, y_test, marker=\"+\", color='r')\n",
    "dtree_plot.set_title('Decision Tree: The correlation between predictions and true values')"
   ]
  },
  {
   "cell_type": "markdown",
   "metadata": {
    "id": "ufPLu2689yCq"
   },
   "source": [
    "### 3.6 Random Forest"
   ]
  },
  {
   "cell_type": "code",
   "execution_count": null,
   "metadata": {
    "colab": {
     "base_uri": "https://localhost:8080/"
    },
    "id": "miTUO51W9BTW",
    "outputId": "420c8ae1-4d99-4d90-eb82-cedfaaf4e348"
   },
   "outputs": [
    {
     "name": "stdout",
     "output_type": "stream",
     "text": [
      "Random Forest: Mean Squared Error:  4455.089816171923\n",
      "Random Forest: Mean Absolute Error:  38.1038641517213\n",
      "Random Forest: R2 score:  0.6286364782954358\n"
     ]
    }
   ],
   "source": [
    "rforest = RandomForestRegressor(random_state=42)\n",
    "rforest.fit(X_train, y_train)\n",
    "y_pred_rforest = rforest.predict(X_test)\n",
    "\n",
    "mse_rforest = mean_squared_error(y_test, y_pred_rforest)\n",
    "mae_rforest = mean_absolute_error(y_test, y_pred_rforest)\n",
    "r2_rforest = r2_score(y_test, y_pred_rforest)\n",
    "\n",
    "print('Random Forest: Mean Squared Error: ', mse_rforest)\n",
    "print('Random Forest: Mean Absolute Error: ', mae_rforest)\n",
    "print('Random Forest: R2 score: ', r2_rforest)"
   ]
  },
  {
   "cell_type": "code",
   "execution_count": null,
   "metadata": {
    "colab": {
     "base_uri": "https://localhost:8080/",
     "height": 464
    },
    "id": "EDJZiomD_DJ3",
    "outputId": "4a2fbdb5-0c6d-4415-e7bd-8b535adc04ff"
   },
   "outputs": [
    {
     "name": "stderr",
     "output_type": "stream",
     "text": [
      "/usr/local/lib/python3.6/dist-packages/seaborn/_decorators.py:43: FutureWarning: Pass the following variables as keyword args: x, y. From version 0.12, the only valid positional argument will be `data`, and passing other arguments without an explicit keyword will result in an error or misinterpretation.\n",
      "  FutureWarning\n"
     ]
    },
    {
     "data": {
      "text/plain": [
       "Text(0.5, 1.0, 'Random Forest: The correlation between predictions and true values')"
      ]
     },
     "execution_count": 33,
     "metadata": {
      "tags": []
     },
     "output_type": "execute_result"
    },
    {
     "data": {
      "image/png": "[encoded data removed]",
      "text/plain": [
       "<Figure size 576x432 with 1 Axes>"
      ]
     },
     "metadata": {
      "tags": []
     },
     "output_type": "display_data"
    }
   ],
   "source": [
    "sns.set(rc={'figure.figsize': (8, 6)})\n",
    "sns.set_style('whitegrid')\n",
    "rforest_plot = sns.regplot(y_pred_rforest, y_test, marker=\"+\", color='r')\n",
    "rforest_plot.set_title('Random Forest: The correlation between predictions and true values')"
   ]
  },
  {
   "cell_type": "markdown",
   "metadata": {
    "id": "du3Wpme5zpBt"
   },
   "source": [
    "### 3.7 XG Boost"
   ]
  },
  {
   "cell_type": "code",
   "execution_count": null,
   "metadata": {
    "colab": {
     "base_uri": "https://localhost:8080/"
    },
    "id": "PB5oj8W6z12v",
    "outputId": "9159bde5-45e7-4f28-e133-cae0951c28b4"
   },
   "outputs": [
    {
     "name": "stdout",
     "output_type": "stream",
     "text": [
      "XG Boost: Mean Squared Error:  4810.174979603351\n",
      "XG Boost: Mean Absolute Error:  39.87148943783093\n",
      "XG Boost: R2 score:  0.5990375965134648\n"
     ]
    }
   ],
   "source": [
    "#XGBoost\n",
    "xgboost = GradientBoostingRegressor(random_state=42)\n",
    "xgboost.fit(X_train, y_train)\n",
    "y_pred_xgboost = xgboost.predict(X_test)\n",
    "\n",
    "mse_xgboost = mean_squared_error(y_test, y_pred_xgboost)\n",
    "mae_xgboost = mean_absolute_error(y_test, y_pred_xgboost)\n",
    "r2_xgboost = r2_score(y_test, y_pred_xgboost)\n",
    "\n",
    "print('XG Boost: Mean Squared Error: ', mse_xgboost)\n",
    "print('XG Boost: Mean Absolute Error: ', mae_xgboost)\n",
    "print('XG Boost: R2 score: ', r2_xgboost)"
   ]
  },
  {
   "cell_type": "markdown",
   "metadata": {
    "id": "c1a0MZQG_0w-"
   },
   "source": [
    "# 4. Model Comparison"
   ]
  },
  {
   "cell_type": "code",
   "execution_count": null,
   "metadata": {
    "colab": {
     "base_uri": "https://localhost:8080/",
     "height": 266
    },
    "id": "_U-w_asv_U6P",
    "outputId": "e2018c07-fcc0-4c38-92c8-f10c51d86b70"
   },
   "outputs": [
    {
     "data": {
      "text/html": [
       "<div>\n",
       "<style scoped>\n",
       "    .dataframe tbody tr th:only-of-type {\n",
       "        vertical-align: middle;\n",
       "    }\n",
       "\n",
       "    .dataframe tbody tr th {\n",
       "        vertical-align: top;\n",
       "    }\n",
       "\n",
       "    .dataframe thead th {\n",
       "        text-align: right;\n",
       "    }\n",
       "</style>\n",
       "<table border=\"1\" class=\"dataframe\">\n",
       "  <thead>\n",
       "    <tr style=\"text-align: right;\">\n",
       "      <th></th>\n",
       "      <th>Mean Squared Error</th>\n",
       "      <th>Mean Absolute Error</th>\n",
       "      <th>R2 Score</th>\n",
       "    </tr>\n",
       "  </thead>\n",
       "  <tbody>\n",
       "    <tr>\n",
       "      <th>Linear Regressor</th>\n",
       "      <td>6674.559549</td>\n",
       "      <td>50.252100</td>\n",
       "      <td>0.443628</td>\n",
       "    </tr>\n",
       "    <tr>\n",
       "      <th>KNN Regressor</th>\n",
       "      <td>5046.053980</td>\n",
       "      <td>41.222002</td>\n",
       "      <td>0.579375</td>\n",
       "    </tr>\n",
       "    <tr>\n",
       "      <th>Support Vector Machine</th>\n",
       "      <td>7257.050508</td>\n",
       "      <td>47.725793</td>\n",
       "      <td>0.395073</td>\n",
       "    </tr>\n",
       "    <tr>\n",
       "      <th>Neural Network</th>\n",
       "      <td>5126.333395</td>\n",
       "      <td>41.858896</td>\n",
       "      <td>0.572684</td>\n",
       "    </tr>\n",
       "    <tr>\n",
       "      <th>Decision Tree</th>\n",
       "      <td>5652.013260</td>\n",
       "      <td>44.117490</td>\n",
       "      <td>0.528864</td>\n",
       "    </tr>\n",
       "    <tr>\n",
       "      <th>Random Forest</th>\n",
       "      <td>4455.089816</td>\n",
       "      <td>38.103864</td>\n",
       "      <td>0.628636</td>\n",
       "    </tr>\n",
       "    <tr>\n",
       "      <th>XG Boost</th>\n",
       "      <td>4810.174980</td>\n",
       "      <td>39.871489</td>\n",
       "      <td>0.599038</td>\n",
       "    </tr>\n",
       "  </tbody>\n",
       "</table>\n",
       "</div>"
      ],
      "text/plain": [
       "                        Mean Squared Error  Mean Absolute Error  R2 Score\n",
       "Linear Regressor               6674.559549            50.252100  0.443628\n",
       "KNN Regressor                  5046.053980            41.222002  0.579375\n",
       "Support Vector Machine         7257.050508            47.725793  0.395073\n",
       "Neural Network                 5126.333395            41.858896  0.572684\n",
       "Decision Tree                  5652.013260            44.117490  0.528864\n",
       "Random Forest                  4455.089816            38.103864  0.628636\n",
       "XG Boost                       4810.174980            39.871489  0.599038"
      ]
     },
     "execution_count": 30,
     "metadata": {
      "tags": []
     },
     "output_type": "execute_result"
    }
   ],
   "source": [
    "error_list = pd.DataFrame()\n",
    "error_list['Linear Regressor'] = [mse_linear, mae_linear, r2_linear]\n",
    "error_list['KNN Regressor'] = [mse_KNN, mae_KNN, r2_KNN]\n",
    "error_list['Support Vector Machine'] = [mse_svr, mae_svr, r2_svr]\n",
    "error_list['Neural Network'] = [mse_nn, mae_nn, r2_nn]\n",
    "error_list['Decision Tree'] = [mse_tree, mae_tree, r2_tree]\n",
    "error_list['Random Forest'] = [mse_rforest, mae_rforest, r2_rforest]\n",
    "error_list['XG Boost'] = [mse_xgboost, mae_xgboost, r2_xgboost]\n",
    "error_list.reset_index(inplace=True, drop=True)\n",
    "error_list.index = ['Mean Squared Error', 'Mean Absolute Error', 'R2 Score']\n",
    "error_list.T\n",
    "\n",
    "# note: Random Forest is the best!"
   ]
  },
  {
   "cell_type": "markdown",
   "metadata": {
    "id": "nhTXQqCD5yi-"
   },
   "source": [
    "# 5. Feature Importance\n",
    "### Will be looking at the top 3 feature importances of Random Forest, XGBoost, Neural Networks"
   ]
  },
  {
   "cell_type": "code",
   "execution_count": null,
   "metadata": {
    "colab": {
     "base_uri": "https://localhost:8080/"
    },
    "id": "ykwskavSARuY",
    "outputId": "4301f51d-8996-4308-fc7e-a71c8f3cef3b"
   },
   "outputs": [
    {
     "name": "stdout",
     "output_type": "stream",
     "text": [
      "room_type 0.258 +/- 0.011\n",
      "longitude 0.168 +/- 0.003\n",
      "latitude 0.096 +/- 0.005\n",
      "accommodates 0.085 +/- 0.004\n",
      "availability_365 0.078 +/- 0.005\n",
      "bathrooms 0.057 +/- 0.004\n",
      "neighbourhood_group 0.055 +/- 0.002\n",
      "minimum_nights 0.044 +/- 0.001\n",
      "bedrooms 0.038 +/- 0.001\n",
      "number_of_reviews 0.030 +/- 0.006\n",
      "property_type 0.019 +/- 0.000\n",
      "calculated_host_listings_count 0.017 +/- 0.000\n",
      "host_is_superhost 0.012 +/- 0.001\n",
      "host_response_rate 0.007 +/- 0.001\n",
      "neighbourhood 0.004 +/- 0.000\n",
      "host_response_time 0.004 +/- 0.000\n"
     ]
    }
   ],
   "source": [
    "#Looking at neural network\n",
    "nn_feature = permutation_importance(model, X_train, y_train, scoring='r2', n_repeats=5, random_state=42)\n",
    "for i in nn_feature.importances_mean.argsort()[::-1]:\n",
    "  if nn_feature.importances_mean[i] - 2 * nn_feature.importances_std[i] > 0:\n",
    "    print(f\"{X_train.columns[i]:<8}\"\n",
    "          \" - \"\n",
    "          f\"{nn_feature.importances_mean[i]:.3f}\"\n",
    "          f\" +/- {nn_feature.importances_std[i]:.3f}\")"
   ]
  },
  {
   "cell_type": "markdown",
   "metadata": {
    "id": "4kM__7tjynFk"
   },
   "source": [
    "Top three are: room type, longitude, and latitude"
   ]
  },
  {
   "cell_type": "code",
   "execution_count": null,
   "metadata": {
    "colab": {
     "base_uri": "https://localhost:8080/"
    },
    "id": "bmDu9wHd0O1B",
    "outputId": "f075a9fe-b236-450d-874a-d1cb9bc27202"
   },
   "outputs": [
    {
     "name": "stdout",
     "output_type": "stream",
     "text": [
      "room_type - 0.192 +/- 0.001\n",
      "longitude - 0.169 +/- 0.003\n",
      "accommodates - 0.124 +/- 0.001\n",
      "latitude - 0.093 +/- 0.002\n",
      "bathrooms - 0.058 +/- 0.002\n",
      "calculated_host_listings_count - 0.051 +/- 0.002\n",
      "minimum_nights - 0.047 +/- 0.001\n",
      "availability_365 - 0.045 +/- 0.001\n",
      "bedrooms - 0.044 +/- 0.001\n",
      "property_type - 0.015 +/- 0.000\n",
      "number_of_reviews - 0.014 +/- 0.000\n",
      "neighbourhood - 0.006 +/- 0.000\n",
      "review_scores_rating - 0.004 +/- 0.000\n",
      "review_scores_cleanliness - 0.003 +/- 0.000\n",
      "host_response_rate - 0.003 +/- 0.000\n",
      "maximum_nights - 0.003 +/- 0.000\n",
      "neighbourhood_group - 0.002 +/- 0.000\n",
      "host_is_superhost - 0.001 +/- 0.000\n",
      "review_scores_location - 0.001 +/- 0.000\n",
      "review_scores_value - 0.001 +/- 0.000\n",
      "beds     - 0.001 +/- 0.000\n",
      "host_response_time - 0.000 +/- 0.000\n"
     ]
    }
   ],
   "source": [
    "#Looking at XGBoost\n",
    "xgb_feature = permutation_importance(xgboost, X_train, y_train, scoring='r2', n_repeats=5, random_state=42)\n",
    "for i in xgb_feature.importances_mean.argsort()[::-1]:\n",
    "  if xgb_feature.importances_mean[i] - 2 * xgb_feature.importances_std[i] > 0:\n",
    "    print(f\"{X_train.columns[i]:<8}\"\n",
    "          \" - \"\n",
    "          f\"{xgb_feature.importances_mean[i]:.3f}\"\n",
    "          f\" +/- {xgb_feature.importances_std[i]:.3f}\")"
   ]
  },
  {
   "cell_type": "markdown",
   "metadata": {
    "id": "jls-ezlk0iPH"
   },
   "source": [
    "Top three are: room type, longitude, and accommodates"
   ]
  },
  {
   "cell_type": "code",
   "execution_count": null,
   "metadata": {
    "colab": {
     "base_uri": "https://localhost:8080/"
    },
    "id": "Av-zUaer0scn",
    "outputId": "bd8ebbe9-77b3-4eb5-921e-d9665c464478"
   },
   "outputs": [
    {
     "name": "stdout",
     "output_type": "stream",
     "text": [
      "longitude - Importance Mean: 0.509 - Std.:  +/- 0.005\n",
      "room_type - Importance Mean: 0.449 - Std.:  +/- 0.004\n",
      "latitude - Importance Mean: 0.293 - Std.:  +/- 0.004\n",
      "bedrooms - Importance Mean: 0.182 - Std.:  +/- 0.003\n",
      "accommodates - Importance Mean: 0.180 - Std.:  +/- 0.003\n",
      "availability_365 - Importance Mean: 0.179 - Std.:  +/- 0.003\n",
      "bathrooms - Importance Mean: 0.166 - Std.:  +/- 0.003\n",
      "minimum_nights - Importance Mean: 0.104 - Std.:  +/- 0.003\n",
      "number_of_reviews - Importance Mean: 0.090 - Std.:  +/- 0.001\n",
      "property_type - Importance Mean: 0.054 - Std.:  +/- 0.002\n",
      "calculated_host_listings_count - Importance Mean: 0.050 - Std.:  +/- 0.001\n",
      "neighbourhood - Importance Mean: 0.049 - Std.:  +/- 0.001\n",
      "maximum_nights - Importance Mean: 0.035 - Std.:  +/- 0.001\n",
      "review_scores_rating - Importance Mean: 0.026 - Std.:  +/- 0.000\n",
      "beds     - Importance Mean: 0.017 - Std.:  +/- 0.000\n",
      "review_scores_cleanliness - Importance Mean: 0.013 - Std.:  +/- 0.000\n",
      "host_response_rate - Importance Mean: 0.012 - Std.:  +/- 0.000\n",
      "host_response_time - Importance Mean: 0.007 - Std.:  +/- 0.000\n",
      "review_scores_accuracy - Importance Mean: 0.006 - Std.:  +/- 0.000\n",
      "review_scores_value - Importance Mean: 0.006 - Std.:  +/- 0.000\n",
      "review_scores_location - Importance Mean: 0.005 - Std.:  +/- 0.000\n",
      "review_scores_checkin - Importance Mean: 0.004 - Std.:  +/- 0.000\n",
      "review_scores_communication - Importance Mean: 0.004 - Std.:  +/- 0.000\n",
      "host_is_superhost - Importance Mean: 0.003 - Std.:  +/- 0.000\n",
      "neighbourhood_group - Importance Mean: 0.003 - Std.:  +/- 0.000\n"
     ]
    }
   ],
   "source": [
    "#Looking at Random Forest\n",
    "rforest_feature = permutation_importance(rforest, X_train, y_train, scoring='r2', n_repeats=10, random_state=42)\n",
    "for i in rforest_feature.importances_mean.argsort()[::-1]:\n",
    "  if rforest_feature.importances_mean[i] - 2 * rforest_feature.importances_std[i] > 0:\n",
    "    print(f\"{X_train.columns[i]:<8}\"\n",
    "          \" - Importance Mean: \"\n",
    "          f\"{rforest_feature.importances_mean[i]:.3f}\"\n",
    "          \" - Std.: \"\n",
    "          f\" +/- {rforest_feature.importances_std[i]:.3f}\")"
   ]
  },
  {
   "cell_type": "markdown",
   "metadata": {
    "id": "z6B_Sng01mTH"
   },
   "source": [
    "Top Three: Longitude, Room Type, and Latitude"
   ]
  }
 ],
 "metadata": {
  "accelerator": "GPU",
  "colab": {
   "collapsed_sections": [],
   "name": "CS513-final-project-nycairbnb-price-prediction.ipynb",
   "provenance": []
  },
  "kernelspec": {
   "display_name": "Python 3",
   "language": "python",
   "name": "python3"
  },
  "language_info": {
   "codemirror_mode": {
    "name": "ipython",
    "version": 3
   },
   "file_extension": ".py",
   "mimetype": "text/x-python",
   "name": "python",
   "nbconvert_exporter": "python",
   "pygments_lexer": "ipython3",
   "version": "3.8.3"
  }
 },
 "nbformat": 4,
 "nbformat_minor": 1
}
